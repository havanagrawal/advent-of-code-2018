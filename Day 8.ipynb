{
 "cells": [
  {
   "cell_type": "code",
   "execution_count": 1,
   "metadata": {
    "ExecuteTime": {
     "end_time": "2018-12-08T11:03:10.191722Z",
     "start_time": "2018-12-08T11:03:10.188622Z"
    }
   },
   "outputs": [],
   "source": [
    "INPUT_FILE = \"day8.txt\""
   ]
  },
  {
   "cell_type": "code",
   "execution_count": 2,
   "metadata": {
    "ExecuteTime": {
     "end_time": "2018-12-08T11:03:10.198795Z",
     "start_time": "2018-12-08T11:03:10.193148Z"
    }
   },
   "outputs": [],
   "source": [
    "with open(INPUT_FILE) as f:\n",
    "    nums = list(map(int, f.read().split()))"
   ]
  },
  {
   "cell_type": "markdown",
   "metadata": {},
   "source": [
    "# Part 1"
   ]
  },
  {
   "cell_type": "code",
   "execution_count": 3,
   "metadata": {
    "ExecuteTime": {
     "end_time": "2018-12-08T11:03:10.211057Z",
     "start_time": "2018-12-08T11:03:10.200881Z"
    }
   },
   "outputs": [
    {
     "data": {
      "text/plain": [
       "[8, 11, 6, 3, 5]"
      ]
     },
     "execution_count": 3,
     "metadata": {},
     "output_type": "execute_result"
    }
   ],
   "source": [
    "nums[:5]"
   ]
  },
  {
   "cell_type": "code",
   "execution_count": 4,
   "metadata": {
    "ExecuteTime": {
     "end_time": "2018-12-08T11:03:10.215802Z",
     "start_time": "2018-12-08T11:03:10.213082Z"
    }
   },
   "outputs": [],
   "source": [
    "from collections import namedtuple, deque"
   ]
  },
  {
   "cell_type": "code",
   "execution_count": 5,
   "metadata": {
    "ExecuteTime": {
     "end_time": "2018-12-08T11:03:10.221702Z",
     "start_time": "2018-12-08T11:03:10.217851Z"
    }
   },
   "outputs": [],
   "source": [
    "Node = namedtuple(\"Node\", \"children metadata\")"
   ]
  },
  {
   "cell_type": "code",
   "execution_count": 6,
   "metadata": {
    "ExecuteTime": {
     "end_time": "2018-12-08T11:03:10.232032Z",
     "start_time": "2018-12-08T11:03:10.223385Z"
    }
   },
   "outputs": [],
   "source": [
    "def read_node(s):\n",
    "    s = iter(s)\n",
    "    no_of_children, no_of_metadata = next(s), next(s)\n",
    "    \n",
    "    children = []\n",
    "    metadata = []\n",
    "    for _ in range(no_of_children):\n",
    "        children.append(read_node(s))\n",
    "    for _ in range(no_of_metadata):\n",
    "        metadata.append(next(s))\n",
    "        \n",
    "    return Node(children, metadata)"
   ]
  },
  {
   "cell_type": "code",
   "execution_count": 7,
   "metadata": {
    "ExecuteTime": {
     "end_time": "2018-12-08T11:03:10.242478Z",
     "start_time": "2018-12-08T11:03:10.234110Z"
    }
   },
   "outputs": [],
   "source": [
    "tree = read_node(iter(nums))"
   ]
  },
  {
   "cell_type": "code",
   "execution_count": 8,
   "metadata": {
    "ExecuteTime": {
     "end_time": "2018-12-08T11:03:10.250192Z",
     "start_time": "2018-12-08T11:03:10.244316Z"
    }
   },
   "outputs": [],
   "source": [
    "def bfs(root, func):\n",
    "    q = deque()\n",
    "    q.append(root)\n",
    "    \n",
    "    while q:\n",
    "        node = q.popleft()\n",
    "        func(node)\n",
    "        for c in node.children:\n",
    "            q.append(c)"
   ]
  },
  {
   "cell_type": "code",
   "execution_count": 9,
   "metadata": {
    "ExecuteTime": {
     "end_time": "2018-12-08T11:03:10.256197Z",
     "start_time": "2018-12-08T11:03:10.252200Z"
    }
   },
   "outputs": [],
   "source": [
    "def sum_metadata(root):\n",
    "    all_meta = []\n",
    "    bfs(root, lambda node: all_meta.append(sum(node.metadata)))\n",
    "    return sum(all_meta)"
   ]
  },
  {
   "cell_type": "code",
   "execution_count": 10,
   "metadata": {
    "ExecuteTime": {
     "end_time": "2018-12-08T11:03:10.263308Z",
     "start_time": "2018-12-08T11:03:10.258057Z"
    }
   },
   "outputs": [
    {
     "data": {
      "text/plain": [
       "40984"
      ]
     },
     "execution_count": 10,
     "metadata": {},
     "output_type": "execute_result"
    }
   ],
   "source": [
    "sum_metadata(tree)"
   ]
  },
  {
   "cell_type": "markdown",
   "metadata": {},
   "source": [
    "# Part 2"
   ]
  },
  {
   "cell_type": "code",
   "execution_count": 11,
   "metadata": {
    "ExecuteTime": {
     "end_time": "2018-12-08T11:03:10.271948Z",
     "start_time": "2018-12-08T11:03:10.265201Z"
    }
   },
   "outputs": [],
   "source": [
    "def value(root):\n",
    "    if not root.children:\n",
    "        return sum(root.metadata)\n",
    "\n",
    "    v = 0\n",
    "    for c_idx in root.metadata:\n",
    "        idx = c_idx - 1\n",
    "        if idx < len(root.children):\n",
    "            v += value(root.children[idx])\n",
    "    return v"
   ]
  },
  {
   "cell_type": "code",
   "execution_count": 12,
   "metadata": {
    "ExecuteTime": {
     "end_time": "2018-12-08T11:03:10.278722Z",
     "start_time": "2018-12-08T11:03:10.274046Z"
    }
   },
   "outputs": [
    {
     "data": {
      "text/plain": [
       "37067"
      ]
     },
     "execution_count": 12,
     "metadata": {},
     "output_type": "execute_result"
    }
   ],
   "source": [
    "value(tree)"
   ]
  }
 ],
 "metadata": {
  "kernelspec": {
   "display_name": "Python 3",
   "language": "python",
   "name": "python3"
  },
  "language_info": {
   "codemirror_mode": {
    "name": "ipython",
    "version": 3
   },
   "file_extension": ".py",
   "mimetype": "text/x-python",
   "name": "python",
   "nbconvert_exporter": "python",
   "pygments_lexer": "ipython3",
   "version": "3.6.4"
  }
 },
 "nbformat": 4,
 "nbformat_minor": 2
}
