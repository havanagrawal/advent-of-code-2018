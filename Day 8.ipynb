{
 "cells": [
  {
   "cell_type": "code",
   "execution_count": 1,
   "metadata": {
    "ExecuteTime": {
     "end_time": "2018-12-08T10:56:27.403148Z",
     "start_time": "2018-12-08T10:56:27.399752Z"
    }
   },
   "outputs": [],
   "source": [
    "INPUT_FILE = \"day8.txt\""
   ]
  },
  {
   "cell_type": "code",
   "execution_count": 2,
   "metadata": {
    "ExecuteTime": {
     "end_time": "2018-12-08T10:56:27.419052Z",
     "start_time": "2018-12-08T10:56:27.410251Z"
    }
   },
   "outputs": [],
   "source": [
    "with open(INPUT_FILE) as f:\n",
    "    nums = list(map(int, f.read().split()))"
   ]
  },
  {
   "cell_type": "markdown",
   "metadata": {},
   "source": [
    "# Part 1"
   ]
  },
  {
   "cell_type": "code",
   "execution_count": 3,
   "metadata": {
    "ExecuteTime": {
     "end_time": "2018-12-08T10:56:27.433954Z",
     "start_time": "2018-12-08T10:56:27.420845Z"
    }
   },
   "outputs": [
    {
     "data": {
      "text/plain": [
       "[8, 11, 6, 3, 5]"
      ]
     },
     "execution_count": 3,
     "metadata": {},
     "output_type": "execute_result"
    }
   ],
   "source": [
    "nums[:5]"
   ]
  },
  {
   "cell_type": "code",
   "execution_count": 4,
   "metadata": {
    "ExecuteTime": {
     "end_time": "2018-12-08T10:56:27.438774Z",
     "start_time": "2018-12-08T10:56:27.435913Z"
    }
   },
   "outputs": [],
   "source": [
    "from collections import namedtuple, deque"
   ]
  },
  {
   "cell_type": "code",
   "execution_count": 5,
   "metadata": {
    "ExecuteTime": {
     "end_time": "2018-12-08T10:56:27.444042Z",
     "start_time": "2018-12-08T10:56:27.440842Z"
    }
   },
   "outputs": [],
   "source": [
    "Node = namedtuple(\"Node\", \"children metadata\")"
   ]
  },
  {
   "cell_type": "code",
   "execution_count": 6,
   "metadata": {
    "ExecuteTime": {
     "end_time": "2018-12-08T10:56:27.453952Z",
     "start_time": "2018-12-08T10:56:27.445875Z"
    }
   },
   "outputs": [],
   "source": [
    "def read_node(s):\n",
    "    s = iter(s)\n",
    "    no_of_children, no_of_metadata = next(s), next(s)\n",
    "    \n",
    "    children = []\n",
    "    metadata = []\n",
    "    for _ in range(no_of_children):\n",
    "        children.append(read_node(s))\n",
    "    for _ in range(no_of_metadata):\n",
    "        metadata.append(next(s))\n",
    "        \n",
    "    return Node(children, metadata)"
   ]
  },
  {
   "cell_type": "code",
   "execution_count": 7,
   "metadata": {
    "ExecuteTime": {
     "end_time": "2018-12-08T10:56:27.464786Z",
     "start_time": "2018-12-08T10:56:27.455453Z"
    }
   },
   "outputs": [],
   "source": [
    "tree = read_node(iter(nums))"
   ]
  },
  {
   "cell_type": "code",
   "execution_count": 8,
   "metadata": {
    "ExecuteTime": {
     "end_time": "2018-12-08T10:56:27.472117Z",
     "start_time": "2018-12-08T10:56:27.466730Z"
    }
   },
   "outputs": [],
   "source": [
    "def bfs(root, func):\n",
    "    q = deque()\n",
    "    q.append(root)\n",
    "    \n",
    "    while q:\n",
    "        node = q.popleft()\n",
    "        func(node)\n",
    "        for c in node.children:\n",
    "            q.append(c)"
   ]
  },
  {
   "cell_type": "code",
   "execution_count": 9,
   "metadata": {
    "ExecuteTime": {
     "end_time": "2018-12-08T10:56:27.478439Z",
     "start_time": "2018-12-08T10:56:27.474199Z"
    }
   },
   "outputs": [],
   "source": [
    "def sum_metadata(root):\n",
    "    all_meta = []\n",
    "    bfs(root, lambda node: all_meta.append(sum(node.metadata)))\n",
    "    return sum(all_meta)"
   ]
  },
  {
   "cell_type": "code",
   "execution_count": 10,
   "metadata": {
    "ExecuteTime": {
     "end_time": "2018-12-08T10:56:27.485257Z",
     "start_time": "2018-12-08T10:56:27.480291Z"
    }
   },
   "outputs": [
    {
     "data": {
      "text/plain": [
       "40984"
      ]
     },
     "execution_count": 10,
     "metadata": {},
     "output_type": "execute_result"
    }
   ],
   "source": [
    "sum_metadata(tree)"
   ]
  },
  {
   "cell_type": "markdown",
   "metadata": {},
   "source": [
    "# Part 2"
   ]
  },
  {
   "cell_type": "code",
   "execution_count": null,
   "metadata": {},
   "outputs": [],
   "source": []
  }
 ],
 "metadata": {
  "kernelspec": {
   "display_name": "Python 3",
   "language": "python",
   "name": "python3"
  },
  "language_info": {
   "codemirror_mode": {
    "name": "ipython",
    "version": 3
   },
   "file_extension": ".py",
   "mimetype": "text/x-python",
   "name": "python",
   "nbconvert_exporter": "python",
   "pygments_lexer": "ipython3",
   "version": "3.6.4"
  }
 },
 "nbformat": 4,
 "nbformat_minor": 2
}
