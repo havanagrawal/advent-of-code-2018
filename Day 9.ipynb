{
 "cells": [
  {
   "cell_type": "code",
   "execution_count": 1,
   "metadata": {
    "ExecuteTime": {
     "end_time": "2018-12-10T11:21:19.034956Z",
     "start_time": "2018-12-10T11:21:19.031359Z"
    }
   },
   "outputs": [],
   "source": [
    "INPUT_FILE = \"day9.txt\""
   ]
  },
  {
   "cell_type": "code",
   "execution_count": 2,
   "metadata": {
    "ExecuteTime": {
     "end_time": "2018-12-10T11:21:19.050643Z",
     "start_time": "2018-12-10T11:21:19.037215Z"
    }
   },
   "outputs": [
    {
     "data": {
      "text/plain": [
       "(458, 71307)"
      ]
     },
     "execution_count": 2,
     "metadata": {},
     "output_type": "execute_result"
    }
   ],
   "source": [
    "with open(INPUT_FILE) as f:\n",
    "    line = f.read().strip().split()\n",
    "    \n",
    "no_of_players, no_of_marbles = int(line[0]), int(line[6])\n",
    "no_of_players, no_of_marbles"
   ]
  },
  {
   "cell_type": "markdown",
   "metadata": {},
   "source": [
    "# Part 1"
   ]
  },
  {
   "cell_type": "code",
   "execution_count": 3,
   "metadata": {
    "ExecuteTime": {
     "end_time": "2018-12-10T11:21:19.072810Z",
     "start_time": "2018-12-10T11:21:19.052711Z"
    }
   },
   "outputs": [],
   "source": [
    "class Node(object):\n",
    "    def __init__(self, v):\n",
    "        self.val = v\n",
    "        self.next = self\n",
    "        self.prev = self\n",
    "        \n",
    "    def add_next(self, node):\n",
    "        node.next = self.next\n",
    "        self.next = node\n",
    "        node.prev = self\n",
    "        node.next.prev = node\n",
    "        \n",
    "    def remove_next(self):\n",
    "        self.next = self.next.next\n",
    "        self.next.next.prev = self\n",
    "\n",
    "    def vals(self, clen):\n",
    "        _vals = []\n",
    "        t = self\n",
    "        for _ in range(clen):\n",
    "            _vals.append(t.val)\n",
    "            t = t.next\n",
    "        return _vals"
   ]
  },
  {
   "cell_type": "code",
   "execution_count": 4,
   "metadata": {
    "ExecuteTime": {
     "end_time": "2018-12-10T11:21:19.094357Z",
     "start_time": "2018-12-10T11:21:19.074822Z"
    }
   },
   "outputs": [],
   "source": [
    "class Node(object):\n",
    "    def __init__(self, v):\n",
    "        self.val = v\n",
    "        self.next = self\n",
    "        self.prev = self\n",
    "        \n",
    "    def add_next(self, node):\n",
    "        node.next = self.next\n",
    "        self.next = node\n",
    "        node.prev = self\n",
    "        node.next.prev = node\n",
    "        \n",
    "    def remove_next(self):\n",
    "        self.next = self.next.next\n",
    "        self.next.next.prev = self\n",
    "\n",
    "    def vals(self, clen):\n",
    "        _vals = []\n",
    "        t = self\n",
    "        for _ in range(clen):\n",
    "            _vals.append(t.val)\n",
    "            t = t.next\n",
    "        return _vals"
   ]
  },
  {
   "cell_type": "code",
   "execution_count": 5,
   "metadata": {
    "ExecuteTime": {
     "end_time": "2018-12-10T11:21:19.140732Z",
     "start_time": "2018-12-10T11:21:19.096440Z"
    }
   },
   "outputs": [],
   "source": [
    "class MarblePlacerV2(object):\n",
    "    def __init__(self, no_of_players):\n",
    "        self.player_scores = [0] * no_of_players\n",
    "        n = Node(0)\n",
    "        self.marbles = n\n",
    "        self.current = n\n",
    "        self.current_player = 0\n",
    "        self.marble_counter = 1\n",
    "        self.current_len = 1\n",
    "\n",
    "    def place(self):\n",
    "        if self.marble_counter % 23 == 0:\n",
    "            for _ in range(8):\n",
    "                self.current = self.current.prev\n",
    "            points = self.marble_counter + self.current.next.val\n",
    "            self.current.remove_next()\n",
    "            self.current = self.current.next\n",
    "            self.player_scores[self.current_player] += points\n",
    "            self.current_len = self.current_len - 1\n",
    "        else:\n",
    "            t = Node(self.marble_counter)\n",
    "            self.current.next.add_next(t)\n",
    "            self.current = t\n",
    "            self.current_len = self.current_len + 1\n",
    "\n",
    "        self.marble_counter += 1\n",
    "        self.current_player = (self.current_player + 1) % len(self.player_scores)\n",
    "    \n",
    "    def max_score(self):\n",
    "        return max(self.player_scores)"
   ]
  },
  {
   "cell_type": "code",
   "execution_count": 6,
   "metadata": {
    "ExecuteTime": {
     "end_time": "2018-12-10T11:21:19.153181Z",
     "start_time": "2018-12-10T11:21:19.142849Z"
    }
   },
   "outputs": [
    {
     "name": "stdout",
     "output_type": "stream",
     "text": [
      "[0, 0, 0, 0, 32, 0, 0, 0, 0]\n",
      "32\n"
     ]
    },
    {
     "data": {
      "text/plain": [
       "[19, 2, 20, 10, 21, 5, 22, 11, 1, 12, 6, 13, 3, 14, 7, 15, 0, 16, 8, 17, 4, 18]"
      ]
     },
     "execution_count": 6,
     "metadata": {},
     "output_type": "execute_result"
    }
   ],
   "source": [
    "p, n = 9, 23\n",
    "mp = MarblePlacerV2(p)\n",
    "for i in range(n):\n",
    "    mp.place()\n",
    "\n",
    "print(mp.player_scores)\n",
    "print(mp.max_score())\n",
    "mp.current.vals(mp.current_len)"
   ]
  },
  {
   "cell_type": "code",
   "execution_count": 7,
   "metadata": {
    "ExecuteTime": {
     "end_time": "2018-12-10T11:21:19.162262Z",
     "start_time": "2018-12-10T11:21:19.156721Z"
    }
   },
   "outputs": [],
   "source": [
    "tests = {\n",
    "    (9, 25): 32,\n",
    "    (10, 1618): 8317,\n",
    "    (13, 7999): 146373,\n",
    "    (17, 1104): 2764,\n",
    "    (21, 6111): 54718,\n",
    "    (30, 5807): 37305\n",
    "}"
   ]
  },
  {
   "cell_type": "code",
   "execution_count": 8,
   "metadata": {
    "ExecuteTime": {
     "end_time": "2018-12-10T11:21:19.172050Z",
     "start_time": "2018-12-10T11:21:19.164275Z"
    }
   },
   "outputs": [],
   "source": [
    "def solve(p, n, log_every_k=None):\n",
    "    mp = MarblePlacerV2(p)\n",
    "    for i in range(n):\n",
    "        if log_every_k is not None and i % log_every_k == 0 and i != 0:\n",
    "            print(\"{}\\tCompleted {} iterations\".format(dt.datetime.now(), i))\n",
    "        mp.place()\n",
    "        \n",
    "    return mp.max_score()"
   ]
  },
  {
   "cell_type": "code",
   "execution_count": 9,
   "metadata": {
    "ExecuteTime": {
     "end_time": "2018-12-10T11:21:19.245163Z",
     "start_time": "2018-12-10T11:21:19.173813Z"
    }
   },
   "outputs": [],
   "source": [
    "for pn, ans in tests.items():\n",
    "    p, n = pn\n",
    "    assert solve(p, n) == ans"
   ]
  },
  {
   "cell_type": "code",
   "execution_count": 10,
   "metadata": {
    "ExecuteTime": {
     "end_time": "2018-12-10T11:21:19.250952Z",
     "start_time": "2018-12-10T11:21:19.248716Z"
    }
   },
   "outputs": [],
   "source": [
    "import datetime as dt"
   ]
  },
  {
   "cell_type": "code",
   "execution_count": 11,
   "metadata": {
    "ExecuteTime": {
     "end_time": "2018-12-10T11:21:19.418204Z",
     "start_time": "2018-12-10T11:21:19.252774Z"
    }
   },
   "outputs": [
    {
     "name": "stdout",
     "output_type": "stream",
     "text": [
      "2018-12-10 03:21:19.273231\tCompleted 10000 iterations\n",
      "2018-12-10 03:21:19.292567\tCompleted 20000 iterations\n",
      "2018-12-10 03:21:19.310734\tCompleted 30000 iterations\n",
      "2018-12-10 03:21:19.328689\tCompleted 40000 iterations\n",
      "2018-12-10 03:21:19.373756\tCompleted 50000 iterations\n",
      "2018-12-10 03:21:19.391954\tCompleted 60000 iterations\n",
      "2018-12-10 03:21:19.411351\tCompleted 70000 iterations\n"
     ]
    },
    {
     "data": {
      "text/plain": [
       "398048"
      ]
     },
     "execution_count": 11,
     "metadata": {},
     "output_type": "execute_result"
    }
   ],
   "source": [
    "solve(no_of_players, no_of_marbles, 10000)"
   ]
  },
  {
   "cell_type": "markdown",
   "metadata": {},
   "source": [
    "# Part 2"
   ]
  },
  {
   "cell_type": "code",
   "execution_count": 12,
   "metadata": {
    "ExecuteTime": {
     "end_time": "2018-12-10T11:21:27.762077Z",
     "start_time": "2018-12-10T11:21:19.421702Z"
    }
   },
   "outputs": [
    {
     "name": "stdout",
     "output_type": "stream",
     "text": [
      "9 3 0\n",
      "9 30 32\n",
      "9 300 461\n",
      "9 3000 31107\n",
      "9 30000 2879445\n",
      "9 300000 285374131\n",
      "9 3000000 28519632035\n"
     ]
    }
   ],
   "source": [
    "p = 9\n",
    "k = 3\n",
    "for _ in range(7):\n",
    "    print(p, k, solve(p, k))\n",
    "    k = 10*k"
   ]
  },
  {
   "cell_type": "code",
   "execution_count": 13,
   "metadata": {
    "ExecuteTime": {
     "end_time": "2018-12-10T11:21:46.536427Z",
     "start_time": "2018-12-10T11:21:27.764391Z"
    }
   },
   "outputs": [
    {
     "data": {
      "text/plain": [
       "3180373421"
      ]
     },
     "execution_count": 13,
     "metadata": {},
     "output_type": "execute_result"
    }
   ],
   "source": [
    "solve(no_of_players, 100*no_of_marbles)"
   ]
  }
 ],
 "metadata": {
  "kernelspec": {
   "display_name": "Python 3",
   "language": "python",
   "name": "python3"
  },
  "language_info": {
   "codemirror_mode": {
    "name": "ipython",
    "version": 3
   },
   "file_extension": ".py",
   "mimetype": "text/x-python",
   "name": "python",
   "nbconvert_exporter": "python",
   "pygments_lexer": "ipython3",
   "version": "3.6.4"
  }
 },
 "nbformat": 4,
 "nbformat_minor": 2
}
