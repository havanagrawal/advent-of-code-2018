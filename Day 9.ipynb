{
 "cells": [
  {
   "cell_type": "code",
   "execution_count": 1,
   "metadata": {
    "ExecuteTime": {
     "end_time": "2018-12-10T10:19:48.450215Z",
     "start_time": "2018-12-10T10:19:48.440964Z"
    }
   },
   "outputs": [],
   "source": [
    "INPUT_FILE = \"day9.txt\""
   ]
  },
  {
   "cell_type": "code",
   "execution_count": 2,
   "metadata": {
    "ExecuteTime": {
     "end_time": "2018-12-10T10:19:48.674510Z",
     "start_time": "2018-12-10T10:19:48.655629Z"
    }
   },
   "outputs": [
    {
     "data": {
      "text/plain": [
       "(458, 71307)"
      ]
     },
     "execution_count": 2,
     "metadata": {},
     "output_type": "execute_result"
    }
   ],
   "source": [
    "with open(INPUT_FILE) as f:\n",
    "    line = f.read().strip().split()\n",
    "    \n",
    "no_of_players, no_of_marbles = int(line[0]), int(line[6])\n",
    "no_of_players, no_of_marbles"
   ]
  },
  {
   "cell_type": "markdown",
   "metadata": {},
   "source": [
    "# Part 1"
   ]
  },
  {
   "cell_type": "code",
   "execution_count": 82,
   "metadata": {
    "ExecuteTime": {
     "end_time": "2018-12-10T10:41:10.366304Z",
     "start_time": "2018-12-10T10:41:10.322304Z"
    }
   },
   "outputs": [],
   "source": [
    "# TODO: Make this double linked for backward movement\n",
    "class Node(object):\n",
    "    def __init__(self, v):\n",
    "        self.val = v\n",
    "        self.next = self\n",
    "        \n",
    "    def add_next(self, node):\n",
    "        tmp = self.next\n",
    "        self.next = node\n",
    "        node.next = tmp\n",
    "        \n",
    "    def remove_next(self):\n",
    "        self.next = self.next.next\n",
    "        \n",
    "    def vals(self, clen):\n",
    "        _vals = []\n",
    "        t = self\n",
    "        for _ in range(clen):\n",
    "            _vals.append(t.val)\n",
    "            t = t.next\n",
    "        return _vals"
   ]
  },
  {
   "cell_type": "code",
   "execution_count": 100,
   "metadata": {
    "ExecuteTime": {
     "end_time": "2018-12-10T10:47:53.229407Z",
     "start_time": "2018-12-10T10:47:53.196199Z"
    }
   },
   "outputs": [],
   "source": [
    "class MarblePlacerV2(object):\n",
    "    def __init__(self, no_of_players):\n",
    "        self.player_scores = [0] * no_of_players\n",
    "        n = Node(0)\n",
    "        self.marbles = n\n",
    "        self.current = n\n",
    "        self.current_player = 0\n",
    "        self.marble_counter = 1\n",
    "        self.current_len = 1\n",
    "\n",
    "    def place(self):\n",
    "        if self.marble_counter % 23 == 0:\n",
    "            move_forward = self.current_len - (7 % self.current_len)\n",
    "            for _ in range(move_forward - 1):\n",
    "                self.current = self.current.next\n",
    "            points = self.marble_counter + self.current.next.val\n",
    "            self.current.remove_next()\n",
    "            self.current = self.current.next\n",
    "            self.player_scores[self.current_player] += points\n",
    "            self.current_len = self.current_len - 1\n",
    "        else:\n",
    "            t = Node(self.marble_counter)\n",
    "            self.current.next.add_next(t)\n",
    "            self.current = t\n",
    "            self.current_len = self.current_len + 1\n",
    "\n",
    "        self.marble_counter += 1\n",
    "        self.current_player = (self.current_player + 1) % len(self.player_scores)\n",
    "    \n",
    "    def max_score(self):\n",
    "        return max(self.player_scores)"
   ]
  },
  {
   "cell_type": "code",
   "execution_count": 115,
   "metadata": {
    "ExecuteTime": {
     "end_time": "2018-12-10T10:51:32.037119Z",
     "start_time": "2018-12-10T10:51:32.030040Z"
    }
   },
   "outputs": [],
   "source": [
    "tests = {\n",
    "    (9, 25): 32,\n",
    "    (10, 1618): 8317,\n",
    "    (13, 7999): 146373,\n",
    "    (17, 1104): 2764,\n",
    "    (21, 6111): 54718,\n",
    "    (30, 5807): 37305\n",
    "}"
   ]
  },
  {
   "cell_type": "code",
   "execution_count": 116,
   "metadata": {
    "ExecuteTime": {
     "end_time": "2018-12-10T10:51:39.785493Z",
     "start_time": "2018-12-10T10:51:32.207719Z"
    }
   },
   "outputs": [],
   "source": [
    "for pn, ans in tests.items():\n",
    "    p, n = pn\n",
    "    mp = MarblePlacerV2(p)\n",
    "    for i in range(n):\n",
    "        mp.place()\n",
    "\n",
    "    assert mp.max_score() == ans"
   ]
  },
  {
   "cell_type": "code",
   "execution_count": 122,
   "metadata": {
    "ExecuteTime": {
     "end_time": "2018-12-10T10:53:33.553669Z",
     "start_time": "2018-12-10T10:53:33.550962Z"
    }
   },
   "outputs": [],
   "source": [
    "import datetime as dt"
   ]
  },
  {
   "cell_type": "code",
   "execution_count": 124,
   "metadata": {
    "ExecuteTime": {
     "end_time": "2018-12-10T10:58:14.751199Z",
     "start_time": "2018-12-10T10:53:47.114352Z"
    }
   },
   "outputs": [
    {
     "name": "stdout",
     "output_type": "stream",
     "text": [
      "2018-12-10 02:53:47.117140\tCompleted 0 iterations\n",
      "2018-12-10 02:53:48.443578\tCompleted 5000 iterations\n",
      "2018-12-10 02:53:52.234834\tCompleted 10000 iterations\n",
      "2018-12-10 02:53:58.698023\tCompleted 15000 iterations\n",
      "2018-12-10 02:54:07.711350\tCompleted 20000 iterations\n",
      "2018-12-10 02:54:19.263538\tCompleted 25000 iterations\n",
      "2018-12-10 02:54:35.403598\tCompleted 30000 iterations\n",
      "2018-12-10 02:54:52.159055\tCompleted 35000 iterations\n",
      "2018-12-10 02:55:12.424399\tCompleted 40000 iterations\n",
      "2018-12-10 02:55:34.713890\tCompleted 45000 iterations\n",
      "2018-12-10 02:55:59.327816\tCompleted 50000 iterations\n",
      "2018-12-10 02:56:27.081518\tCompleted 55000 iterations\n",
      "2018-12-10 02:56:57.616097\tCompleted 60000 iterations\n",
      "2018-12-10 02:57:30.088259\tCompleted 65000 iterations\n",
      "2018-12-10 02:58:05.174223\tCompleted 70000 iterations\n",
      "398048\n"
     ]
    }
   ],
   "source": [
    "mp = MarblePlacerV2(no_of_players)\n",
    "for i in range(no_of_marbles):\n",
    "    if i % 5000 == 0:\n",
    "        print(\"{}\\tCompleted {} iterations\".format(dt.datetime.now(), i))\n",
    "    mp.place()\n",
    "print(mp.max_score())"
   ]
  },
  {
   "cell_type": "markdown",
   "metadata": {},
   "source": [
    "# Part 2"
   ]
  }
 ],
 "metadata": {
  "kernelspec": {
   "display_name": "Python 3",
   "language": "python",
   "name": "python3"
  },
  "language_info": {
   "codemirror_mode": {
    "name": "ipython",
    "version": 3
   },
   "file_extension": ".py",
   "mimetype": "text/x-python",
   "name": "python",
   "nbconvert_exporter": "python",
   "pygments_lexer": "ipython3",
   "version": "3.6.4"
  }
 },
 "nbformat": 4,
 "nbformat_minor": 2
}
