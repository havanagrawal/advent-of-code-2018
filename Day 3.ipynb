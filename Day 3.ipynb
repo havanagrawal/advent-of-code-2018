{
 "cells": [
  {
   "cell_type": "code",
   "execution_count": 1,
   "metadata": {
    "ExecuteTime": {
     "end_time": "2018-12-03T05:20:45.770961Z",
     "start_time": "2018-12-03T05:20:45.766457Z"
    }
   },
   "outputs": [],
   "source": [
    "INPUT_FILE = \"day3.txt\""
   ]
  },
  {
   "cell_type": "code",
   "execution_count": 2,
   "metadata": {
    "ExecuteTime": {
     "end_time": "2018-12-03T05:20:45.778883Z",
     "start_time": "2018-12-03T05:20:45.773069Z"
    }
   },
   "outputs": [],
   "source": [
    "with open(INPUT_FILE) as f:\n",
    "    lines = [s.strip() for s in f.readlines()]"
   ]
  },
  {
   "cell_type": "code",
   "execution_count": 3,
   "metadata": {
    "ExecuteTime": {
     "end_time": "2018-12-03T05:20:45.783541Z",
     "start_time": "2018-12-03T05:20:45.781020Z"
    }
   },
   "outputs": [],
   "source": [
    "from collections import namedtuple"
   ]
  },
  {
   "cell_type": "markdown",
   "metadata": {},
   "source": [
    "Eg; `#146 @ 100,651: 18x11`\n"
   ]
  },
  {
   "cell_type": "code",
   "execution_count": 4,
   "metadata": {
    "ExecuteTime": {
     "end_time": "2018-12-03T05:20:45.793608Z",
     "start_time": "2018-12-03T05:20:45.786479Z"
    }
   },
   "outputs": [],
   "source": [
    "Rectangle = namedtuple(\"Rectangle\", \"id_ x1 y1 x2 y2\")\n",
    "\n",
    "def parse(s):\n",
    "    r_id, _, offsets, dims = s.split()\n",
    "    left, top = map(int, offsets[:-1].split(\",\"))\n",
    "    width, height = map(int, dims.split(\"x\"))\n",
    "    return Rectangle(r_id, left, top, left + width, top + height)"
   ]
  },
  {
   "cell_type": "code",
   "execution_count": 5,
   "metadata": {
    "ExecuteTime": {
     "end_time": "2018-12-03T05:20:45.805798Z",
     "start_time": "2018-12-03T05:20:45.795979Z"
    }
   },
   "outputs": [
    {
     "data": {
      "text/plain": [
       "Rectangle(id_='#146', x1=100, y1=651, x2=118, y2=662)"
      ]
     },
     "execution_count": 5,
     "metadata": {},
     "output_type": "execute_result"
    }
   ],
   "source": [
    "parse(\"#146 @ 100,651: 18x11\")"
   ]
  },
  {
   "cell_type": "code",
   "execution_count": 6,
   "metadata": {
    "ExecuteTime": {
     "end_time": "2018-12-03T05:20:45.814503Z",
     "start_time": "2018-12-03T05:20:45.808034Z"
    }
   },
   "outputs": [],
   "source": [
    "rectangles = [parse(s) for s in lines]"
   ]
  },
  {
   "cell_type": "code",
   "execution_count": 7,
   "metadata": {
    "ExecuteTime": {
     "end_time": "2018-12-03T05:20:45.821238Z",
     "start_time": "2018-12-03T05:20:45.816503Z"
    }
   },
   "outputs": [
    {
     "data": {
      "text/plain": [
       "Rectangle(id_='#1', x1=257, y1=829, x2=267, y2=852)"
      ]
     },
     "execution_count": 7,
     "metadata": {},
     "output_type": "execute_result"
    }
   ],
   "source": [
    "rectangles[0]"
   ]
  },
  {
   "cell_type": "code",
   "execution_count": 8,
   "metadata": {
    "ExecuteTime": {
     "end_time": "2018-12-03T05:20:45.828610Z",
     "start_time": "2018-12-03T05:20:45.823155Z"
    }
   },
   "outputs": [
    {
     "data": {
      "text/plain": [
       "(1000, 1000)"
      ]
     },
     "execution_count": 8,
     "metadata": {},
     "output_type": "execute_result"
    }
   ],
   "source": [
    "max(r.x2 for r in rectangles), max(r.y2 for r in rectangles)"
   ]
  },
  {
   "cell_type": "code",
   "execution_count": 9,
   "metadata": {
    "ExecuteTime": {
     "end_time": "2018-12-03T05:20:45.847815Z",
     "start_time": "2018-12-03T05:20:45.830248Z"
    }
   },
   "outputs": [],
   "source": [
    "sheet = [[0] * 1000 for _ in range(1000)]"
   ]
  },
  {
   "cell_type": "code",
   "execution_count": 10,
   "metadata": {
    "ExecuteTime": {
     "end_time": "2018-12-03T05:20:45.945421Z",
     "start_time": "2018-12-03T05:20:45.851300Z"
    }
   },
   "outputs": [],
   "source": [
    "for rect in rectangles:\n",
    "    for x in range(rect.x1, rect.x2):\n",
    "        for y in range(rect.y1, rect.y2):\n",
    "            sheet[x][y] += 1"
   ]
  },
  {
   "cell_type": "code",
   "execution_count": 11,
   "metadata": {
    "ExecuteTime": {
     "end_time": "2018-12-03T05:20:46.022846Z",
     "start_time": "2018-12-03T05:20:45.947759Z"
    }
   },
   "outputs": [],
   "source": [
    "multiple_claims = 0\n",
    "for row in sheet:\n",
    "    for cell in row:\n",
    "        if cell > 1:\n",
    "            multiple_claims += 1"
   ]
  },
  {
   "cell_type": "code",
   "execution_count": 12,
   "metadata": {
    "ExecuteTime": {
     "end_time": "2018-12-03T05:20:46.031886Z",
     "start_time": "2018-12-03T05:20:46.025430Z"
    }
   },
   "outputs": [
    {
     "data": {
      "text/plain": [
       "101196"
      ]
     },
     "execution_count": 12,
     "metadata": {},
     "output_type": "execute_result"
    }
   ],
   "source": [
    "multiple_claims"
   ]
  },
  {
   "cell_type": "markdown",
   "metadata": {},
   "source": [
    "# Part 2"
   ]
  },
  {
   "cell_type": "code",
   "execution_count": 13,
   "metadata": {
    "ExecuteTime": {
     "end_time": "2018-12-03T05:20:46.039511Z",
     "start_time": "2018-12-03T05:20:46.035402Z"
    }
   },
   "outputs": [],
   "source": [
    "from itertools import combinations"
   ]
  },
  {
   "cell_type": "code",
   "execution_count": 14,
   "metadata": {
    "ExecuteTime": {
     "end_time": "2018-12-03T05:20:46.049126Z",
     "start_time": "2018-12-03T05:20:46.042597Z"
    }
   },
   "outputs": [],
   "source": [
    "def lines_overlap(x01, x02, x11, x12):\n",
    "    return x11 <= x01 <= x12 or x01 <= x11 <= x02\n",
    "\n",
    "def overlaps(r1, r2):\n",
    "    return lines_overlap(r1.x1, r1.x2, r2.x1, r2.x2) and lines_overlap(r1.y1, r1.y2, r2.y1, r2.y2)"
   ]
  },
  {
   "cell_type": "code",
   "execution_count": 15,
   "metadata": {
    "ExecuteTime": {
     "end_time": "2018-12-03T05:20:46.394263Z",
     "start_time": "2018-12-03T05:20:46.051338Z"
    }
   },
   "outputs": [],
   "source": [
    "seen = set()\n",
    "for r1, r2 in combinations(rectangles, 2):\n",
    "    if (r1 not in seen or r2 not in seen) and overlaps(r1, r2):\n",
    "        seen.add(r1)\n",
    "        seen.add(r2)"
   ]
  },
  {
   "cell_type": "code",
   "execution_count": 16,
   "metadata": {
    "ExecuteTime": {
     "end_time": "2018-12-03T05:20:46.404180Z",
     "start_time": "2018-12-03T05:20:46.398002Z"
    }
   },
   "outputs": [
    {
     "data": {
      "text/plain": [
       "{Rectangle(id_='#243', x1=204, y1=784, x2=215, y2=811)}"
      ]
     },
     "execution_count": 16,
     "metadata": {},
     "output_type": "execute_result"
    }
   ],
   "source": [
    "set(rectangles) - seen"
   ]
  }
 ],
 "metadata": {
  "kernelspec": {
   "display_name": "Python 3",
   "language": "python",
   "name": "python3"
  },
  "language_info": {
   "codemirror_mode": {
    "name": "ipython",
    "version": 3
   },
   "file_extension": ".py",
   "mimetype": "text/x-python",
   "name": "python",
   "nbconvert_exporter": "python",
   "pygments_lexer": "ipython3",
   "version": "3.6.4"
  }
 },
 "nbformat": 4,
 "nbformat_minor": 2
}
