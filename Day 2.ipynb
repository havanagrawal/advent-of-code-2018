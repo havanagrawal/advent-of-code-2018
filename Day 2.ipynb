{
 "cells": [
  {
   "cell_type": "markdown",
   "metadata": {},
   "source": [
    "# Part 1"
   ]
  },
  {
   "cell_type": "code",
   "execution_count": 1,
   "metadata": {
    "ExecuteTime": {
     "end_time": "2018-12-03T03:44:42.476406Z",
     "start_time": "2018-12-03T03:44:42.472856Z"
    }
   },
   "outputs": [],
   "source": [
    "INPUT_FILE = \"day2.txt\""
   ]
  },
  {
   "cell_type": "code",
   "execution_count": 2,
   "metadata": {
    "ExecuteTime": {
     "end_time": "2018-12-03T03:44:42.484033Z",
     "start_time": "2018-12-03T03:44:42.478304Z"
    }
   },
   "outputs": [],
   "source": [
    "with open(INPUT_FILE) as f:\n",
    "    lines = [s.strip() for s in f.readlines()]"
   ]
  },
  {
   "cell_type": "code",
   "execution_count": 3,
   "metadata": {
    "ExecuteTime": {
     "end_time": "2018-12-03T03:44:42.488326Z",
     "start_time": "2018-12-03T03:44:42.485655Z"
    }
   },
   "outputs": [],
   "source": [
    "from collections import Counter"
   ]
  },
  {
   "cell_type": "code",
   "execution_count": 4,
   "metadata": {
    "ExecuteTime": {
     "end_time": "2018-12-03T03:44:42.497965Z",
     "start_time": "2018-12-03T03:44:42.490451Z"
    }
   },
   "outputs": [],
   "source": [
    "counters = [Counter(s) for s in lines]\n",
    "checksum_counts = [set(c.values()) for c in counters]"
   ]
  },
  {
   "cell_type": "code",
   "execution_count": 5,
   "metadata": {
    "ExecuteTime": {
     "end_time": "2018-12-03T03:44:42.503278Z",
     "start_time": "2018-12-03T03:44:42.499889Z"
    }
   },
   "outputs": [],
   "source": [
    "number_of_2s = len([s for s in checksum_counts if 2 in s])\n",
    "number_of_3s = len([s for s in checksum_counts if 3 in s])"
   ]
  },
  {
   "cell_type": "code",
   "execution_count": 6,
   "metadata": {
    "ExecuteTime": {
     "end_time": "2018-12-03T03:44:42.515948Z",
     "start_time": "2018-12-03T03:44:42.505311Z"
    }
   },
   "outputs": [
    {
     "data": {
      "text/plain": [
       "(247, 23, 5681)"
      ]
     },
     "execution_count": 6,
     "metadata": {},
     "output_type": "execute_result"
    }
   ],
   "source": [
    "number_of_2s, number_of_3s, number_of_2s*number_of_3s"
   ]
  },
  {
   "cell_type": "markdown",
   "metadata": {
    "ExecuteTime": {
     "end_time": "2018-12-03T03:39:26.354202Z",
     "start_time": "2018-12-03T03:39:26.350673Z"
    }
   },
   "source": [
    "# Part 2"
   ]
  },
  {
   "cell_type": "code",
   "execution_count": 7,
   "metadata": {
    "ExecuteTime": {
     "end_time": "2018-12-03T03:44:42.522090Z",
     "start_time": "2018-12-03T03:44:42.517629Z"
    }
   },
   "outputs": [],
   "source": [
    "def distance(s1, s2):\n",
    "    d = 0\n",
    "    for i, j in zip(s1, s2):\n",
    "        if i != j:\n",
    "            d += 1\n",
    "    return d"
   ]
  },
  {
   "cell_type": "code",
   "execution_count": 8,
   "metadata": {
    "ExecuteTime": {
     "end_time": "2018-12-03T03:44:42.528094Z",
     "start_time": "2018-12-03T03:44:42.524123Z"
    }
   },
   "outputs": [
    {
     "data": {
      "text/plain": [
       "2"
      ]
     },
     "execution_count": 8,
     "metadata": {},
     "output_type": "execute_result"
    }
   ],
   "source": [
    "distance(\"abcde\", \"axcye\")"
   ]
  },
  {
   "cell_type": "code",
   "execution_count": 9,
   "metadata": {
    "ExecuteTime": {
     "end_time": "2018-12-03T03:44:42.532927Z",
     "start_time": "2018-12-03T03:44:42.530207Z"
    }
   },
   "outputs": [],
   "source": [
    "from itertools import combinations"
   ]
  },
  {
   "cell_type": "code",
   "execution_count": 10,
   "metadata": {
    "ExecuteTime": {
     "end_time": "2018-12-03T03:44:42.583928Z",
     "start_time": "2018-12-03T03:44:42.535153Z"
    }
   },
   "outputs": [],
   "source": [
    "desired_pair = ()\n",
    "for s1, s2 in combinations(lines, 2):\n",
    "    if distance(s1, s2) == 1:\n",
    "        desired_pair = (s1, s2)\n",
    "        break"
   ]
  },
  {
   "cell_type": "code",
   "execution_count": 11,
   "metadata": {
    "ExecuteTime": {
     "end_time": "2018-12-03T03:44:42.596557Z",
     "start_time": "2018-12-03T03:44:42.588071Z"
    }
   },
   "outputs": [
    {
     "data": {
      "text/plain": [
       "('uqyoeizfvmbistpkgnobcjtwld', 'uqyoeizfvmbistpkgnoacjtwld')"
      ]
     },
     "execution_count": 11,
     "metadata": {},
     "output_type": "execute_result"
    }
   ],
   "source": [
    "desired_pair"
   ]
  },
  {
   "cell_type": "code",
   "execution_count": 12,
   "metadata": {
    "ExecuteTime": {
     "end_time": "2018-12-03T03:44:42.609164Z",
     "start_time": "2018-12-03T03:44:42.601042Z"
    }
   },
   "outputs": [
    {
     "data": {
      "text/plain": [
       "'uqyoeizfvmbistpkgnocjtwld'"
      ]
     },
     "execution_count": 12,
     "metadata": {},
     "output_type": "execute_result"
    }
   ],
   "source": [
    "\"\".join((i for i, j in zip(*desired_pair) if i == j))"
   ]
  }
 ],
 "metadata": {
  "kernelspec": {
   "display_name": "Python 3",
   "language": "python",
   "name": "python3"
  },
  "language_info": {
   "codemirror_mode": {
    "name": "ipython",
    "version": 3
   },
   "file_extension": ".py",
   "mimetype": "text/x-python",
   "name": "python",
   "nbconvert_exporter": "python",
   "pygments_lexer": "ipython3",
   "version": "3.6.4"
  }
 },
 "nbformat": 4,
 "nbformat_minor": 2
}
