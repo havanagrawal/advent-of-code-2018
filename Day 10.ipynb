{
 "cells": [
  {
   "cell_type": "code",
   "execution_count": 1,
   "metadata": {
    "ExecuteTime": {
     "end_time": "2018-12-10T23:13:54.534130Z",
     "start_time": "2018-12-10T23:13:54.529171Z"
    }
   },
   "outputs": [],
   "source": [
    "INPUT_FILE = \"day10.txt\""
   ]
  },
  {
   "cell_type": "code",
   "execution_count": 2,
   "metadata": {
    "ExecuteTime": {
     "end_time": "2018-12-10T23:13:54.539531Z",
     "start_time": "2018-12-10T23:13:54.536106Z"
    }
   },
   "outputs": [],
   "source": [
    "with open(INPUT_FILE) as f:\n",
    "    lines = [s.strip() for s in f.readlines()]"
   ]
  },
  {
   "cell_type": "markdown",
   "metadata": {},
   "source": [
    "# Part 1"
   ]
  },
  {
   "cell_type": "code",
   "execution_count": 3,
   "metadata": {
    "ExecuteTime": {
     "end_time": "2018-12-10T23:13:54.558136Z",
     "start_time": "2018-12-10T23:13:54.541226Z"
    }
   },
   "outputs": [],
   "source": [
    "class MovingPoint(object):\n",
    "    def __init__(self, x, y, x_v, y_v):\n",
    "        self.x = x\n",
    "        self.y = y\n",
    "        self.x_v = x_v\n",
    "        self.y_v = y_v\n",
    "        \n",
    "    def move(self, n=1):\n",
    "        \"\"\"Move a single step, determined by velocity\"\"\"\n",
    "        self.x += n*self.x_v\n",
    "        self.y += n*self.y_v\n",
    "        \n",
    "    def copy(self):\n",
    "        return MovingPoint(self.x, self.y, self.x_v, self.y_v)\n",
    "        \n",
    "    def __str__(self):\n",
    "        return \"MovingPoint({}, {}, {}, {})\".format(self.x, self.y, self.x_v, self.y_v)"
   ]
  },
  {
   "cell_type": "code",
   "execution_count": 4,
   "metadata": {
    "ExecuteTime": {
     "end_time": "2018-12-10T23:13:54.566669Z",
     "start_time": "2018-12-10T23:13:54.559986Z"
    }
   },
   "outputs": [],
   "source": [
    "def parse(s):\n",
    "    s_idx = s.index(\" velocity\")\n",
    "    position_str = s[:s_idx]\n",
    "    velocity_str = s[s_idx + 1:]\n",
    "    x, y = map(int, position_str[position_str.index(\"<\") + 1: position_str.index(\">\")].split(\",\"))\n",
    "    xv, yv = map(int, velocity_str[velocity_str.index(\"<\") + 1: velocity_str.index(\">\")].split(\",\"))\n",
    "    \n",
    "    return MovingPoint(x, y, xv, yv)"
   ]
  },
  {
   "cell_type": "code",
   "execution_count": 5,
   "metadata": {
    "ExecuteTime": {
     "end_time": "2018-12-10T23:13:54.572504Z",
     "start_time": "2018-12-10T23:13:54.568313Z"
    }
   },
   "outputs": [],
   "source": [
    "mps = [parse(s) for s in lines]"
   ]
  },
  {
   "cell_type": "code",
   "execution_count": 6,
   "metadata": {
    "ExecuteTime": {
     "end_time": "2018-12-10T23:13:54.577724Z",
     "start_time": "2018-12-10T23:13:54.574051Z"
    }
   },
   "outputs": [],
   "source": [
    "min_x, min_y = min(p.x for p in mps), min(p.y for p in mps)\n",
    "max_x, max_y = max(p.x for p in mps), max(p.y for p in mps)"
   ]
  },
  {
   "cell_type": "code",
   "execution_count": 7,
   "metadata": {
    "ExecuteTime": {
     "end_time": "2018-12-10T23:13:54.592892Z",
     "start_time": "2018-12-10T23:13:54.579504Z"
    }
   },
   "outputs": [
    {
     "data": {
      "text/plain": [
       "(-50263, -50246, 50607, 50573)"
      ]
     },
     "execution_count": 7,
     "metadata": {},
     "output_type": "execute_result"
    }
   ],
   "source": [
    "min_x, min_y, max_x, max_y "
   ]
  },
  {
   "cell_type": "code",
   "execution_count": 8,
   "metadata": {
    "ExecuteTime": {
     "end_time": "2018-12-10T23:13:54.599902Z",
     "start_time": "2018-12-10T23:13:54.595567Z"
    }
   },
   "outputs": [],
   "source": [
    "MIN_N, MAX_N = -75000, 75000"
   ]
  },
  {
   "cell_type": "code",
   "execution_count": 9,
   "metadata": {
    "ExecuteTime": {
     "end_time": "2018-12-10T23:13:54.831055Z",
     "start_time": "2018-12-10T23:13:54.602342Z"
    }
   },
   "outputs": [],
   "source": [
    "import numpy as np\n",
    "import matplotlib.pyplot as plt\n",
    "\n",
    "from time import sleep"
   ]
  },
  {
   "cell_type": "code",
   "execution_count": 10,
   "metadata": {
    "ExecuteTime": {
     "end_time": "2018-12-10T23:13:54.839441Z",
     "start_time": "2018-12-10T23:13:54.833275Z"
    }
   },
   "outputs": [],
   "source": [
    "def get_xy(points):\n",
    "    x = [p.x for p in points]\n",
    "    y = [-p.y for p in points]\n",
    "    return x, y\n",
    "\n",
    "def draw(x, y, ax):\n",
    "    ax.set_xdata(x)\n",
    "    ax.set_ydata(y)"
   ]
  },
  {
   "cell_type": "code",
   "execution_count": 11,
   "metadata": {
    "ExecuteTime": {
     "end_time": "2018-12-10T23:13:54.846360Z",
     "start_time": "2018-12-10T23:13:54.841265Z"
    }
   },
   "outputs": [],
   "source": [
    "from IPython.display import clear_output"
   ]
  },
  {
   "cell_type": "markdown",
   "metadata": {},
   "source": [
    "This solution was found iteratively"
   ]
  },
  {
   "cell_type": "code",
   "execution_count": 12,
   "metadata": {
    "ExecuteTime": {
     "end_time": "2018-12-10T23:14:03.366617Z",
     "start_time": "2018-12-10T23:13:54.848216Z"
    }
   },
   "outputs": [
    {
     "data": {
      "image/png": "[encoded data removed]",
      "text/plain": [
       "<matplotlib.figure.Figure at 0x112d961d0>"
      ]
     },
     "metadata": {},
     "output_type": "display_data"
    }
   ],
   "source": [
    "points_to_draw = [p.copy() for p in mps]\n",
    "speed = 1000\n",
    "n = 240\n",
    "iterations = 0\n",
    "pause_time = 0.25\n",
    "\n",
    "for i in range(n):\n",
    "    plt.clf()\n",
    "    x, y = get_xy(points_to_draw)\n",
    "    plt.scatter(x, y)\n",
    "    plt.title(\"{}\".format(iterations))\n",
    "    plt.pause(pause_time)\n",
    "    \n",
    "    clear_output(wait=True)\n",
    "    \n",
    "    for p in points_to_draw:\n",
    "        p.move(speed)\n",
    "        \n",
    "    iterations += speed\n",
    "    \n",
    "    if iterations >= 10000:\n",
    "        speed = 10\n",
    "    if iterations >= 10075:\n",
    "        speed = 1\n",
    "        pause_time = 0.5\n",
    "    if iterations >= 10082:\n",
    "        break"
   ]
  },
  {
   "cell_type": "code",
   "execution_count": 21,
   "metadata": {
    "ExecuteTime": {
     "end_time": "2018-12-10T23:14:37.815210Z",
     "start_time": "2018-12-10T23:14:37.808356Z"
    }
   },
   "outputs": [],
   "source": [
    "def show_at(starting, n):\n",
    "    starting = [p.copy() for p in starting]\n",
    "    for p in starting:\n",
    "        p.move(n)\n",
    "    x, y = get_xy(starting)\n",
    "    plt.scatter(x, y)"
   ]
  },
  {
   "cell_type": "code",
   "execution_count": 24,
   "metadata": {
    "ExecuteTime": {
     "end_time": "2018-12-10T23:14:50.330127Z",
     "start_time": "2018-12-10T23:14:50.205745Z"
    }
   },
   "outputs": [
    {
     "data": {
      "text/plain": [
       "<matplotlib.collections.LineCollection at 0x10cec6320>"
      ]
     },
     "execution_count": 24,
     "metadata": {},
     "output_type": "execute_result"
    },
    {
     "data": {
      "image/png": "[encoded data removed]",
      "text/plain": [
       "<matplotlib.figure.Figure at 0x10cec6908>"
      ]
     },
     "metadata": {},
     "output_type": "display_data"
    }
   ],
   "source": [
    "show_at(mps, 10081)\n",
    "plt.vlines(148, -180, -140)"
   ]
  },
  {
   "cell_type": "markdown",
   "metadata": {},
   "source": [
    "# Part 2"
   ]
  },
  {
   "cell_type": "code",
   "execution_count": 15,
   "metadata": {
    "ExecuteTime": {
     "end_time": "2018-12-10T23:14:03.530259Z",
     "start_time": "2018-12-10T23:14:03.525144Z"
    }
   },
   "outputs": [
    {
     "data": {
      "text/plain": [
       "10081"
      ]
     },
     "execution_count": 15,
     "metadata": {},
     "output_type": "execute_result"
    }
   ],
   "source": [
    "10081"
   ]
  }
 ],
 "metadata": {
  "kernelspec": {
   "display_name": "Python 3",
   "language": "python",
   "name": "python3"
  },
  "language_info": {
   "codemirror_mode": {
    "name": "ipython",
    "version": 3
   },
   "file_extension": ".py",
   "mimetype": "text/x-python",
   "name": "python",
   "nbconvert_exporter": "python",
   "pygments_lexer": "ipython3",
   "version": "3.6.4"
  }
 },
 "nbformat": 4,
 "nbformat_minor": 2
}
