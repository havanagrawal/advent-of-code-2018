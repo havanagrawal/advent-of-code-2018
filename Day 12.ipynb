{
 "cells": [
  {
   "cell_type": "code",
   "execution_count": 1,
   "metadata": {
    "ExecuteTime": {
     "end_time": "2018-12-12T11:01:37.036596Z",
     "start_time": "2018-12-12T11:01:37.032625Z"
    }
   },
   "outputs": [],
   "source": [
    "INPUT_FILE = \"day12.txt\""
   ]
  },
  {
   "cell_type": "code",
   "execution_count": 2,
   "metadata": {
    "ExecuteTime": {
     "end_time": "2018-12-12T11:01:37.043600Z",
     "start_time": "2018-12-12T11:01:37.039385Z"
    }
   },
   "outputs": [],
   "source": [
    "with open(INPUT_FILE) as f:\n",
    "    lines = [s.strip() for s in f.readlines()]"
   ]
  },
  {
   "cell_type": "markdown",
   "metadata": {},
   "source": [
    "# Part 1"
   ]
  },
  {
   "cell_type": "code",
   "execution_count": 3,
   "metadata": {
    "ExecuteTime": {
     "end_time": "2018-12-12T11:01:37.067293Z",
     "start_time": "2018-12-12T11:01:37.049530Z"
    }
   },
   "outputs": [
    {
     "data": {
      "text/plain": [
       "['initial state: ##.#.####..#####..#.....##....#.#######..#.#...........#......##...##.#...####..##.#..##.....#..####',\n",
       " '',\n",
       " '#..#. => #',\n",
       " '.###. => .']"
      ]
     },
     "execution_count": 3,
     "metadata": {},
     "output_type": "execute_result"
    }
   ],
   "source": [
    "lines[:4]"
   ]
  },
  {
   "cell_type": "code",
   "execution_count": 4,
   "metadata": {
    "ExecuteTime": {
     "end_time": "2018-12-12T11:01:37.073513Z",
     "start_time": "2018-12-12T11:01:37.070529Z"
    }
   },
   "outputs": [],
   "source": [
    "PADDING = 1000"
   ]
  },
  {
   "cell_type": "code",
   "execution_count": 5,
   "metadata": {
    "ExecuteTime": {
     "end_time": "2018-12-12T11:01:37.087487Z",
     "start_time": "2018-12-12T11:01:37.075688Z"
    }
   },
   "outputs": [
    {
     "name": "stdout",
     "output_type": "stream",
     "text": [
      "100\n",
      "2100\n"
     ]
    }
   ],
   "source": [
    "start_state = lines[0].split()[2]\n",
    "\n",
    "print(len(start_state))\n",
    "start_state = (\".\" * PADDING) + start_state +  (\".\" * PADDING)\n",
    "print(len(start_state))\n",
    "\n",
    "state_changes = {}\n",
    "for l in lines[2:]:\n",
    "    x, y = l.split(\"=>\")\n",
    "    state_changes[x.strip()] = y.strip()"
   ]
  },
  {
   "cell_type": "code",
   "execution_count": 6,
   "metadata": {
    "ExecuteTime": {
     "end_time": "2018-12-12T11:01:37.112225Z",
     "start_time": "2018-12-12T11:01:37.089679Z"
    }
   },
   "outputs": [],
   "source": [
    "def next_(current, state_changes):\n",
    "    next_state = [\".\"]*len(current)\n",
    "    for i in range(0, len(current) - 4):\n",
    "        arrangement = current[i:i + 5]\n",
    "        if arrangement in state_changes:\n",
    "            next_state[i+2] = state_changes[arrangement]\n",
    "    \n",
    "    return \"\".join(next_state)\n",
    "\n",
    "def score(state, start_idx):\n",
    "    i = start_idx\n",
    "    s = 0\n",
    "    for k in state:\n",
    "        if k == '#':\n",
    "            s += i\n",
    "        i += 1\n",
    "\n",
    "    return s\n",
    "\n",
    "def next_after_k(state, k):\n",
    "    for i in range(k):\n",
    "        state = next_(state, state_changes)\n",
    "    return state"
   ]
  },
  {
   "cell_type": "code",
   "execution_count": 7,
   "metadata": {
    "ExecuteTime": {
     "end_time": "2018-12-12T11:01:37.119997Z",
     "start_time": "2018-12-12T11:01:37.114009Z"
    }
   },
   "outputs": [
    {
     "data": {
      "text/plain": [
       "('........................................................................................................................................................................................................................................................................................................................................................................................................................................................................................................................................................................................................................................................................................................................................................................................................................................................................................................................................................................................................................................##.#.####..#####..#.....##....#.#######..#.#...........#......##...##.#...####..##.#..##.....#..####........................................................................................................................................................................................................................................................................................................................................................................................................................................................................................................................................................................................................................................................................................................................................................................................................................................................................................................................................................................................................................................',\n",
       " 2108)"
      ]
     },
     "execution_count": 7,
     "metadata": {},
     "output_type": "execute_result"
    }
   ],
   "source": [
    "start_state, score(start_state, -PADDING)"
   ]
  },
  {
   "cell_type": "code",
   "execution_count": 8,
   "metadata": {
    "ExecuteTime": {
     "end_time": "2018-12-12T11:01:37.138238Z",
     "start_time": "2018-12-12T11:01:37.121994Z"
    }
   },
   "outputs": [
    {
     "data": {
      "text/plain": [
       "3798"
      ]
     },
     "execution_count": 8,
     "metadata": {},
     "output_type": "execute_result"
    }
   ],
   "source": [
    "score(next_after_k(start_state, 20), -PADDING)"
   ]
  },
  {
   "cell_type": "markdown",
   "metadata": {},
   "source": [
    "# Part 2"
   ]
  },
  {
   "cell_type": "code",
   "execution_count": 9,
   "metadata": {
    "ExecuteTime": {
     "end_time": "2018-12-12T11:01:37.143079Z",
     "start_time": "2018-12-12T11:01:37.140186Z"
    }
   },
   "outputs": [],
   "source": [
    "PAD = 10"
   ]
  },
  {
   "cell_type": "code",
   "execution_count": 10,
   "metadata": {
    "ExecuteTime": {
     "end_time": "2018-12-12T11:01:37.147842Z",
     "start_time": "2018-12-12T11:01:37.145033Z"
    }
   },
   "outputs": [],
   "source": [
    "start_state = lines[0].split()[2]\n",
    "start_state = \".\"*PAD + start_state + \".\"*PAD"
   ]
  },
  {
   "cell_type": "code",
   "execution_count": 11,
   "metadata": {
    "ExecuteTime": {
     "end_time": "2018-12-12T11:01:38.275475Z",
     "start_time": "2018-12-12T11:01:37.150192Z"
    }
   },
   "outputs": [
    {
     "name": "stdout",
     "output_type": "stream",
     "text": [
      "165\n"
     ]
    }
   ],
   "source": [
    "state = start_state\n",
    "first_plant = []\n",
    "last_plant = []\n",
    "scores = []\n",
    "\n",
    "start_idx = -PAD\n",
    "for i in range(20000):\n",
    "    first_plant.append(state.index(\"#\"))\n",
    "    last_plant.append(state.rfind(\"#\"))\n",
    "    state = next_(state, state_changes)\n",
    "\n",
    "    lfind = state.index(\"#\")\n",
    "    if lfind < PAD:\n",
    "        state = \".\"*(PAD-lfind) + state\n",
    "        start_idx -= (PAD-lfind)\n",
    "    elif lfind > PAD:\n",
    "        state = state[lfind - PAD:]\n",
    "        start_idx += (lfind - PAD)\n",
    "    \n",
    "    rfind = state.rfind(\"#\")\n",
    "    if len(state) - rfind < PAD:\n",
    "        state = state + \".\" * (PAD - len(state) + rfind)\n",
    "        \n",
    "    scores.append(score(state, start_idx))\n",
    "\n",
    "print(len(state))"
   ]
  },
  {
   "cell_type": "code",
   "execution_count": 12,
   "metadata": {
    "ExecuteTime": {
     "end_time": "2018-12-12T11:01:38.693331Z",
     "start_time": "2018-12-12T11:01:38.277267Z"
    }
   },
   "outputs": [],
   "source": [
    "import matplotlib.pyplot as plt"
   ]
  },
  {
   "cell_type": "code",
   "execution_count": 13,
   "metadata": {
    "ExecuteTime": {
     "end_time": "2018-12-12T11:01:38.982368Z",
     "start_time": "2018-12-12T11:01:38.695335Z"
    }
   },
   "outputs": [
    {
     "data": {
      "text/plain": [
       "[<matplotlib.lines.Line2D at 0x11a85d4e0>]"
      ]
     },
     "execution_count": 13,
     "metadata": {},
     "output_type": "execute_result"
    },
    {
     "data": {
      "image/png": "[encoded data removed]",
      "text/plain": [
       "<matplotlib.figure.Figure at 0x114da1c18>"
      ]
     },
     "metadata": {},
     "output_type": "display_data"
    }
   ],
   "source": [
    "plt.figure(figsize=(16, 6))\n",
    "plt.plot(first_plant)\n",
    "plt.plot(last_plant)"
   ]
  },
  {
   "cell_type": "code",
   "execution_count": 14,
   "metadata": {
    "ExecuteTime": {
     "end_time": "2018-12-12T11:01:39.162327Z",
     "start_time": "2018-12-12T11:01:38.984377Z"
    }
   },
   "outputs": [
    {
     "data": {
      "text/plain": [
       "[<matplotlib.lines.Line2D at 0x11de8cda0>]"
      ]
     },
     "execution_count": 14,
     "metadata": {},
     "output_type": "execute_result"
    },
    {
     "data": {
      "image/png": "[encoded data removed]",
      "text/plain": [
       "<matplotlib.figure.Figure at 0x11a8c37f0>"
      ]
     },
     "metadata": {},
     "output_type": "display_data"
    }
   ],
   "source": [
    "plt.figure(figsize=(16, 8))\n",
    "plt.plot(scores)\n",
    "plt.plot([78*i for i in range(len(scores))])"
   ]
  },
  {
   "cell_type": "code",
   "execution_count": 15,
   "metadata": {
    "ExecuteTime": {
     "end_time": "2018-12-12T11:01:39.168667Z",
     "start_time": "2018-12-12T11:01:39.164212Z"
    }
   },
   "outputs": [
    {
     "data": {
      "text/plain": [
       "(25690, 25690)"
      ]
     },
     "execution_count": 15,
     "metadata": {},
     "output_type": "execute_result"
    }
   ],
   "source": [
    "scores[250] + 78*(300 - 250), scores[300]"
   ]
  },
  {
   "cell_type": "code",
   "execution_count": 16,
   "metadata": {
    "ExecuteTime": {
     "end_time": "2018-12-12T11:01:39.177251Z",
     "start_time": "2018-12-12T11:01:39.170956Z"
    }
   },
   "outputs": [
    {
     "data": {
      "text/plain": [
       "(41290, 41290)"
      ]
     },
     "execution_count": 16,
     "metadata": {},
     "output_type": "execute_result"
    }
   ],
   "source": [
    "scores[250] + 78*(500 - 250), scores[500]"
   ]
  },
  {
   "cell_type": "code",
   "execution_count": 17,
   "metadata": {
    "ExecuteTime": {
     "end_time": "2018-12-12T11:01:39.193392Z",
     "start_time": "2018-12-12T11:01:39.179459Z"
    }
   },
   "outputs": [
    {
     "data": {
      "text/plain": [
       "3900000002212"
      ]
     },
     "execution_count": 17,
     "metadata": {},
     "output_type": "execute_result"
    }
   ],
   "source": [
    "scores[500] + 78*(50000000000 - 500 - 1)"
   ]
  }
 ],
 "metadata": {
  "kernelspec": {
   "display_name": "Python 3",
   "language": "python",
   "name": "python3"
  },
  "language_info": {
   "codemirror_mode": {
    "name": "ipython",
    "version": 3
   },
   "file_extension": ".py",
   "mimetype": "text/x-python",
   "name": "python",
   "nbconvert_exporter": "python",
   "pygments_lexer": "ipython3",
   "version": "3.6.4"
  }
 },
 "nbformat": 4,
 "nbformat_minor": 2
}
