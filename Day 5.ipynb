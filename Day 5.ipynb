{
 "cells": [
  {
   "cell_type": "markdown",
   "metadata": {},
   "source": [
    "# Part 1"
   ]
  },
  {
   "cell_type": "code",
   "execution_count": 1,
   "metadata": {
    "ExecuteTime": {
     "end_time": "2018-12-05T07:56:22.725617Z",
     "start_time": "2018-12-05T07:56:22.720307Z"
    }
   },
   "outputs": [],
   "source": [
    "from string import ascii_lowercase, ascii_uppercase"
   ]
  },
  {
   "cell_type": "code",
   "execution_count": 2,
   "metadata": {
    "ExecuteTime": {
     "end_time": "2018-12-05T07:56:22.730491Z",
     "start_time": "2018-12-05T07:56:22.727869Z"
    }
   },
   "outputs": [],
   "source": [
    "INPUT_FILE = \"day5.txt\""
   ]
  },
  {
   "cell_type": "code",
   "execution_count": 3,
   "metadata": {
    "ExecuteTime": {
     "end_time": "2018-12-05T07:56:22.737528Z",
     "start_time": "2018-12-05T07:56:22.733497Z"
    }
   },
   "outputs": [],
   "source": [
    "with open(INPUT_FILE) as f:\n",
    "    polymer = f.read().strip()"
   ]
  },
  {
   "cell_type": "code",
   "execution_count": 4,
   "metadata": {
    "ExecuteTime": {
     "end_time": "2018-12-05T07:56:22.752794Z",
     "start_time": "2018-12-05T07:56:22.740043Z"
    }
   },
   "outputs": [
    {
     "data": {
      "text/plain": [
       "50000"
      ]
     },
     "execution_count": 4,
     "metadata": {},
     "output_type": "execute_result"
    }
   ],
   "source": [
    "len(polymer)"
   ]
  },
  {
   "cell_type": "code",
   "execution_count": 5,
   "metadata": {
    "ExecuteTime": {
     "end_time": "2018-12-05T07:56:22.759255Z",
     "start_time": "2018-12-05T07:56:22.755138Z"
    }
   },
   "outputs": [],
   "source": [
    "ALL_PAIRS = {\"\".join(pair) for pair in zip(ascii_lowercase, ascii_uppercase)}\n",
    "ALL_PAIRS = ALL_PAIRS | {\"\".join(pair) for pair in zip(ascii_uppercase, ascii_lowercase)}"
   ]
  },
  {
   "cell_type": "code",
   "execution_count": 6,
   "metadata": {
    "ExecuteTime": {
     "end_time": "2018-12-05T07:56:22.765288Z",
     "start_time": "2018-12-05T07:56:22.761531Z"
    }
   },
   "outputs": [],
   "source": [
    "def react(polymer):\n",
    "    for pair in ALL_PAIRS:\n",
    "        polymer = polymer.replace(pair, \"\")\n",
    "    return polymer"
   ]
  },
  {
   "cell_type": "code",
   "execution_count": 7,
   "metadata": {
    "ExecuteTime": {
     "end_time": "2018-12-05T07:56:22.772510Z",
     "start_time": "2018-12-05T07:56:22.767255Z"
    }
   },
   "outputs": [],
   "source": [
    "def reduce(polymer):\n",
    "    prev_len = 0\n",
    "\n",
    "    while prev_len != len(polymer):\n",
    "        prev_len = len(polymer)\n",
    "        polymer = react(polymer)\n",
    "    return polymer"
   ]
  },
  {
   "cell_type": "code",
   "execution_count": 8,
   "metadata": {
    "ExecuteTime": {
     "end_time": "2018-12-05T07:56:22.975754Z",
     "start_time": "2018-12-05T07:56:22.774567Z"
    }
   },
   "outputs": [],
   "source": [
    "reduced_polymer = reduce(polymer)"
   ]
  },
  {
   "cell_type": "markdown",
   "metadata": {},
   "source": [
    "Assert that the polymer can no longer be reduced"
   ]
  },
  {
   "cell_type": "code",
   "execution_count": 9,
   "metadata": {
    "ExecuteTime": {
     "end_time": "2018-12-05T07:56:22.980838Z",
     "start_time": "2018-12-05T07:56:22.977743Z"
    }
   },
   "outputs": [],
   "source": [
    "assert len(reduced_polymer) == len(react(reduced_polymer))"
   ]
  },
  {
   "cell_type": "code",
   "execution_count": 10,
   "metadata": {
    "ExecuteTime": {
     "end_time": "2018-12-05T07:56:22.988965Z",
     "start_time": "2018-12-05T07:56:22.983742Z"
    }
   },
   "outputs": [
    {
     "data": {
      "text/plain": [
       "10450"
      ]
     },
     "execution_count": 10,
     "metadata": {},
     "output_type": "execute_result"
    }
   ],
   "source": [
    "len(reduced_polymer)"
   ]
  },
  {
   "cell_type": "markdown",
   "metadata": {},
   "source": [
    "# Part 2"
   ]
  },
  {
   "cell_type": "code",
   "execution_count": 11,
   "metadata": {
    "ExecuteTime": {
     "end_time": "2018-12-05T07:56:22.995867Z",
     "start_time": "2018-12-05T07:56:22.992068Z"
    }
   },
   "outputs": [],
   "source": [
    "def remove_unit(polymer, c):\n",
    "    return polymer.replace(c.lower(), \"\").replace(c.upper(), \"\")"
   ]
  },
  {
   "cell_type": "code",
   "execution_count": 12,
   "metadata": {
    "ExecuteTime": {
     "end_time": "2018-12-05T07:56:28.109018Z",
     "start_time": "2018-12-05T07:56:22.999125Z"
    }
   },
   "outputs": [],
   "source": [
    "optimal_reduced_units = []\n",
    "for unit in ascii_lowercase:\n",
    "    new_polymer = remove_unit(polymer, unit)\n",
    "    optimal_reduced_units.append((unit, len(reduce(new_polymer))))"
   ]
  },
  {
   "cell_type": "code",
   "execution_count": 13,
   "metadata": {
    "ExecuteTime": {
     "end_time": "2018-12-05T07:56:28.120899Z",
     "start_time": "2018-12-05T07:56:28.111240Z"
    }
   },
   "outputs": [
    {
     "data": {
      "text/plain": [
       "('l', 4624)"
      ]
     },
     "execution_count": 13,
     "metadata": {},
     "output_type": "execute_result"
    }
   ],
   "source": [
    "min(optimal_reduced_units, key=lambda s: s[1])"
   ]
  }
 ],
 "metadata": {
  "kernelspec": {
   "display_name": "Python 3",
   "language": "python",
   "name": "python3"
  },
  "language_info": {
   "codemirror_mode": {
    "name": "ipython",
    "version": 3
   },
   "file_extension": ".py",
   "mimetype": "text/x-python",
   "name": "python",
   "nbconvert_exporter": "python",
   "pygments_lexer": "ipython3",
   "version": "3.6.4"
  }
 },
 "nbformat": 4,
 "nbformat_minor": 2
}
