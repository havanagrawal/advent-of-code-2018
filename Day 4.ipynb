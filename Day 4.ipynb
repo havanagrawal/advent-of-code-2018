{
 "cells": [
  {
   "cell_type": "markdown",
   "metadata": {},
   "source": [
    "# Part 1"
   ]
  },
  {
   "cell_type": "code",
   "execution_count": 1,
   "metadata": {
    "ExecuteTime": {
     "end_time": "2018-12-04T08:06:42.064246Z",
     "start_time": "2018-12-04T08:06:42.059806Z"
    }
   },
   "outputs": [],
   "source": [
    "INPUT_FILE = \"day4.txt\""
   ]
  },
  {
   "cell_type": "code",
   "execution_count": 2,
   "metadata": {
    "ExecuteTime": {
     "end_time": "2018-12-04T08:06:42.071180Z",
     "start_time": "2018-12-04T08:06:42.066916Z"
    }
   },
   "outputs": [],
   "source": [
    "with open(INPUT_FILE) as f:\n",
    "    loglines = [s.strip() for s in f.readlines()]"
   ]
  },
  {
   "cell_type": "code",
   "execution_count": 3,
   "metadata": {
    "ExecuteTime": {
     "end_time": "2018-12-04T08:06:42.084598Z",
     "start_time": "2018-12-04T08:06:42.073300Z"
    }
   },
   "outputs": [
    {
     "data": {
      "text/plain": [
       "['[1518-03-31 00:26] falls asleep',\n",
       " '[1518-04-03 00:38] wakes up',\n",
       " '[1518-11-21 00:14] falls asleep',\n",
       " '[1518-07-21 00:34] wakes up',\n",
       " '[1518-04-02 00:20] falls asleep']"
      ]
     },
     "execution_count": 3,
     "metadata": {},
     "output_type": "execute_result"
    }
   ],
   "source": [
    "loglines[:5]"
   ]
  },
  {
   "cell_type": "code",
   "execution_count": 4,
   "metadata": {
    "ExecuteTime": {
     "end_time": "2018-12-04T08:06:42.091424Z",
     "start_time": "2018-12-04T08:06:42.086549Z"
    }
   },
   "outputs": [],
   "source": [
    "from collections import namedtuple, defaultdict\n",
    "from datetime import datetime"
   ]
  },
  {
   "cell_type": "code",
   "execution_count": 5,
   "metadata": {
    "ExecuteTime": {
     "end_time": "2018-12-04T08:06:42.102307Z",
     "start_time": "2018-12-04T08:06:42.094632Z"
    }
   },
   "outputs": [],
   "source": [
    "ASLEEP = \"falls asleep\"\n",
    "WAKE_UP = \"wakes up\""
   ]
  },
  {
   "cell_type": "code",
   "execution_count": 6,
   "metadata": {
    "ExecuteTime": {
     "end_time": "2018-12-04T08:06:42.110473Z",
     "start_time": "2018-12-04T08:06:42.105237Z"
    }
   },
   "outputs": [],
   "source": [
    "Event = namedtuple(\"Event\", \"time event\")\n",
    "Interval = namedtuple(\"Interval\", \"start end activity\")"
   ]
  },
  {
   "cell_type": "code",
   "execution_count": 7,
   "metadata": {
    "ExecuteTime": {
     "end_time": "2018-12-04T08:06:42.122316Z",
     "start_time": "2018-12-04T08:06:42.112845Z"
    }
   },
   "outputs": [],
   "source": [
    "def parse(s):\n",
    "    time_str, event = s.split(\"]\")\n",
    "    time_str = time_str[1:]\n",
    "    event = event.strip()\n",
    "    return Event(datetime.strptime(time_str, \"%Y-%m-%d %H:%M\"), event)\n",
    "\n",
    "def get_guard_id(s):\n",
    "    _, gid, _, _ = s.split()\n",
    "    return gid"
   ]
  },
  {
   "cell_type": "markdown",
   "metadata": {},
   "source": [
    "### Parse log lines into events"
   ]
  },
  {
   "cell_type": "code",
   "execution_count": 8,
   "metadata": {
    "ExecuteTime": {
     "end_time": "2018-12-04T08:06:42.146516Z",
     "start_time": "2018-12-04T08:06:42.125188Z"
    }
   },
   "outputs": [],
   "source": [
    "events = list(sorted((parse(s) for s in loglines)))"
   ]
  },
  {
   "cell_type": "code",
   "execution_count": 9,
   "metadata": {
    "ExecuteTime": {
     "end_time": "2018-12-04T08:06:42.152246Z",
     "start_time": "2018-12-04T08:06:42.148414Z"
    }
   },
   "outputs": [
    {
     "data": {
      "text/plain": [
       "[Event(time=datetime.datetime(1518, 3, 19, 0, 2), event='Guard #2953 begins shift'),\n",
       " Event(time=datetime.datetime(1518, 3, 19, 0, 37), event='falls asleep'),\n",
       " Event(time=datetime.datetime(1518, 3, 19, 0, 41), event='wakes up'),\n",
       " Event(time=datetime.datetime(1518, 3, 20, 0, 0), event='Guard #457 begins shift'),\n",
       " Event(time=datetime.datetime(1518, 3, 20, 0, 14), event='falls asleep')]"
      ]
     },
     "execution_count": 9,
     "metadata": {},
     "output_type": "execute_result"
    }
   ],
   "source": [
    "events[:5]"
   ]
  },
  {
   "cell_type": "markdown",
   "metadata": {},
   "source": [
    "### Create Activity Intervals for each guard"
   ]
  },
  {
   "cell_type": "code",
   "execution_count": 10,
   "metadata": {
    "ExecuteTime": {
     "end_time": "2018-12-04T08:06:42.185258Z",
     "start_time": "2018-12-04T08:06:42.153979Z"
    }
   },
   "outputs": [],
   "source": [
    "guard_events = defaultdict(list)\n",
    "\n",
    "current_guard = None\n",
    "sleep_start = 0\n",
    "prev_time = 0\n",
    "\n",
    "for time, event in events:\n",
    "    if event == ASLEEP:\n",
    "        # Assuming guard doesn't sleep twice without waking, i.e. valid events\n",
    "        interval = Interval(prev_time, time, \"awake\")\n",
    "        guard_events[current_guard].append(interval)\n",
    "    elif event == WAKE_UP:\n",
    "        # Record current guard as asleep from last time until now\n",
    "        interval = Interval(prev_time, time, \"asleep\")\n",
    "        guard_events[current_guard].append(interval)\n",
    "    else:\n",
    "        # Record current guard as awake from last known time till now\n",
    "        interval = Interval(prev_time, time, \"awake\")\n",
    "        guard_events[current_guard].append(interval)\n",
    "        \n",
    "        # Change of guard\n",
    "        current_guard = get_guard_id(event)\n",
    "        \n",
    "    prev_time = time\n",
    "    \n",
    "del guard_events[None]"
   ]
  },
  {
   "cell_type": "code",
   "execution_count": 11,
   "metadata": {
    "ExecuteTime": {
     "end_time": "2018-12-04T08:06:42.194284Z",
     "start_time": "2018-12-04T08:06:42.188100Z"
    }
   },
   "outputs": [],
   "source": [
    "def get_total_sleep_time(intervals):\n",
    "    sleep_intervals = [i for i in intervals if i.activity == \"asleep\"]\n",
    "    times = [(i.end - i.start).total_seconds() for i in sleep_intervals]\n",
    "    return sum(times)"
   ]
  },
  {
   "cell_type": "markdown",
   "metadata": {},
   "source": [
    "### Get total sleep time per guard, and find the guard who slept the most"
   ]
  },
  {
   "cell_type": "code",
   "execution_count": 12,
   "metadata": {
    "ExecuteTime": {
     "end_time": "2018-12-04T08:06:42.203230Z",
     "start_time": "2018-12-04T08:06:42.197151Z"
    }
   },
   "outputs": [],
   "source": [
    "max_sleep = 0\n",
    "max_sleep_guard = None\n",
    "\n",
    "for guard, intervals in guard_events.items():\n",
    "    this_guard_slept_for = get_total_sleep_time(intervals)\n",
    "    if this_guard_slept_for > max_sleep:\n",
    "        max_sleep = this_guard_slept_for\n",
    "        max_sleep_guard = guard"
   ]
  },
  {
   "cell_type": "code",
   "execution_count": 13,
   "metadata": {
    "ExecuteTime": {
     "end_time": "2018-12-04T08:06:42.210384Z",
     "start_time": "2018-12-04T08:06:42.206207Z"
    }
   },
   "outputs": [
    {
     "data": {
      "text/plain": [
       "('#2953', 27900.0)"
      ]
     },
     "execution_count": 13,
     "metadata": {},
     "output_type": "execute_result"
    }
   ],
   "source": [
    "max_sleep_guard, max_sleep"
   ]
  },
  {
   "cell_type": "code",
   "execution_count": 14,
   "metadata": {
    "ExecuteTime": {
     "end_time": "2018-12-04T08:06:42.225261Z",
     "start_time": "2018-12-04T08:06:42.212854Z"
    }
   },
   "outputs": [],
   "source": [
    "def most_asleep(intervals):\n",
    "    # Frequency map for each minute of the midnight hour\n",
    "    sleep_times = [0]*60\n",
    "    \n",
    "    # For every minute that this guard was asleep\n",
    "    # Increase the frequency of that minute\n",
    "    for i in intervals:\n",
    "        if i.activity != \"asleep\":\n",
    "            continue\n",
    "\n",
    "        for j in range(i.start.minute, i.end.minute):\n",
    "            sleep_times[j] += 1\n",
    "\n",
    "    # Find the minute with maximum frequency\n",
    "    return max(enumerate(sleep_times), key=lambda k: k[1])"
   ]
  },
  {
   "cell_type": "code",
   "execution_count": 15,
   "metadata": {
    "ExecuteTime": {
     "end_time": "2018-12-04T08:06:42.234486Z",
     "start_time": "2018-12-04T08:06:42.227989Z"
    }
   },
   "outputs": [
    {
     "data": {
      "text/plain": [
       "(39, 16)"
      ]
     },
     "execution_count": 15,
     "metadata": {},
     "output_type": "execute_result"
    }
   ],
   "source": [
    "# Find the minute for which this guard was asleep the most\n",
    "most_asleep(guard_events[\"#2953\"])"
   ]
  },
  {
   "cell_type": "code",
   "execution_count": 16,
   "metadata": {
    "ExecuteTime": {
     "end_time": "2018-12-04T08:06:42.243612Z",
     "start_time": "2018-12-04T08:06:42.238509Z"
    }
   },
   "outputs": [
    {
     "data": {
      "text/plain": [
       "115167"
      ]
     },
     "execution_count": 16,
     "metadata": {},
     "output_type": "execute_result"
    }
   ],
   "source": [
    "39*2953"
   ]
  },
  {
   "cell_type": "markdown",
   "metadata": {},
   "source": [
    "# Part 2"
   ]
  },
  {
   "cell_type": "markdown",
   "metadata": {},
   "source": [
    "`guard_sleeps` is a dictionary of frequency lists. Each outer key is the guard ID, and the inner list is a frequency map for each minute of the midnight hour"
   ]
  },
  {
   "cell_type": "code",
   "execution_count": 17,
   "metadata": {
    "ExecuteTime": {
     "end_time": "2018-12-04T08:06:42.249690Z",
     "start_time": "2018-12-04T08:06:42.246758Z"
    }
   },
   "outputs": [],
   "source": [
    "guard_sleeps = defaultdict(lambda: [0]*60)"
   ]
  },
  {
   "cell_type": "code",
   "execution_count": 18,
   "metadata": {
    "ExecuteTime": {
     "end_time": "2018-12-04T08:06:42.261973Z",
     "start_time": "2018-12-04T08:06:42.251937Z"
    }
   },
   "outputs": [],
   "source": [
    "max_sleep_minute = -1\n",
    "max_sleep_freq = 0\n",
    "max_guard = None\n",
    "\n",
    "for guard, intervals in guard_events.items():\n",
    "    max_sleep_minute_guard, max_sleep_freq_guard = most_asleep(intervals)\n",
    "    \n",
    "    if max_sleep_freq_guard > max_sleep_freq:\n",
    "        max_sleep_freq = max_sleep_freq_guard\n",
    "        max_sleep_minute = max_sleep_minute_guard\n",
    "        max_guard = guard"
   ]
  },
  {
   "cell_type": "code",
   "execution_count": 19,
   "metadata": {
    "ExecuteTime": {
     "end_time": "2018-12-04T08:06:42.271818Z",
     "start_time": "2018-12-04T08:06:42.265510Z"
    }
   },
   "outputs": [
    {
     "data": {
      "text/plain": [
       "('#1069', 30)"
      ]
     },
     "execution_count": 19,
     "metadata": {},
     "output_type": "execute_result"
    }
   ],
   "source": [
    "max_guard, max_sleep_minute"
   ]
  },
  {
   "cell_type": "code",
   "execution_count": 20,
   "metadata": {
    "ExecuteTime": {
     "end_time": "2018-12-04T08:06:42.277341Z",
     "start_time": "2018-12-04T08:06:42.273966Z"
    }
   },
   "outputs": [
    {
     "data": {
      "text/plain": [
       "32070"
      ]
     },
     "execution_count": 20,
     "metadata": {},
     "output_type": "execute_result"
    }
   ],
   "source": [
    "1069*30"
   ]
  }
 ],
 "metadata": {
  "kernelspec": {
   "display_name": "Python 3",
   "language": "python",
   "name": "python3"
  },
  "language_info": {
   "codemirror_mode": {
    "name": "ipython",
    "version": 3
   },
   "file_extension": ".py",
   "mimetype": "text/x-python",
   "name": "python",
   "nbconvert_exporter": "python",
   "pygments_lexer": "ipython3",
   "version": "3.6.4"
  }
 },
 "nbformat": 4,
 "nbformat_minor": 2
}
