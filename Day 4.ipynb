{
 "cells": [
  {
   "cell_type": "markdown",
   "metadata": {},
   "source": [
    "# Part 1"
   ]
  },
  {
   "cell_type": "code",
   "execution_count": 1,
   "metadata": {
    "ExecuteTime": {
     "end_time": "2018-12-04T06:32:59.209311Z",
     "start_time": "2018-12-04T06:32:59.205176Z"
    }
   },
   "outputs": [],
   "source": [
    "INPUT_FILE = \"day4.txt\""
   ]
  },
  {
   "cell_type": "code",
   "execution_count": 2,
   "metadata": {
    "ExecuteTime": {
     "end_time": "2018-12-04T06:37:43.306862Z",
     "start_time": "2018-12-04T06:37:43.302704Z"
    }
   },
   "outputs": [],
   "source": [
    "with open(INPUT_FILE) as f:\n",
    "    loglines = [s.strip() for s in f.readlines()]"
   ]
  },
  {
   "cell_type": "code",
   "execution_count": 3,
   "metadata": {
    "ExecuteTime": {
     "end_time": "2018-12-04T06:37:47.045856Z",
     "start_time": "2018-12-04T06:37:47.036089Z"
    }
   },
   "outputs": [
    {
     "data": {
      "text/plain": [
       "['[1518-03-31 00:26] falls asleep',\n",
       " '[1518-04-03 00:38] wakes up',\n",
       " '[1518-11-21 00:14] falls asleep',\n",
       " '[1518-07-21 00:34] wakes up',\n",
       " '[1518-04-02 00:20] falls asleep']"
      ]
     },
     "execution_count": 3,
     "metadata": {},
     "output_type": "execute_result"
    }
   ],
   "source": [
    "loglines[:5]"
   ]
  },
  {
   "cell_type": "code",
   "execution_count": 21,
   "metadata": {
    "ExecuteTime": {
     "end_time": "2018-12-04T06:48:01.125954Z",
     "start_time": "2018-12-04T06:48:01.123247Z"
    }
   },
   "outputs": [],
   "source": [
    "from collections import namedtuple, defaultdict\n",
    "from datetime import datetime"
   ]
  },
  {
   "cell_type": "code",
   "execution_count": 26,
   "metadata": {
    "ExecuteTime": {
     "end_time": "2018-12-04T07:00:09.857982Z",
     "start_time": "2018-12-04T07:00:09.855379Z"
    }
   },
   "outputs": [],
   "source": [
    "ASLEEP = \"falls asleep\"\n",
    "WAKE_UP = \"wakes up\""
   ]
  },
  {
   "cell_type": "code",
   "execution_count": 24,
   "metadata": {
    "ExecuteTime": {
     "end_time": "2018-12-04T06:51:25.696682Z",
     "start_time": "2018-12-04T06:51:25.692588Z"
    }
   },
   "outputs": [],
   "source": [
    "Event = namedtuple(\"Event\", \"time event\")\n",
    "Interval = namedtuple(\"Interval\", \"start end activity\")"
   ]
  },
  {
   "cell_type": "code",
   "execution_count": 27,
   "metadata": {
    "ExecuteTime": {
     "end_time": "2018-12-04T07:00:22.126145Z",
     "start_time": "2018-12-04T07:00:22.119229Z"
    }
   },
   "outputs": [],
   "source": [
    "def parse(s):\n",
    "    time_str, event = s.split(\"]\")\n",
    "    time_str = time_str[1:]\n",
    "    event = event.strip()\n",
    "    return Event(datetime.strptime(time_str, \"%Y-%m-%d %H:%M\"), event)\n",
    "\n",
    "def get_guard_id(s):\n",
    "    _, gid, _, _ = s.split()\n",
    "    return gid"
   ]
  },
  {
   "cell_type": "code",
   "execution_count": 28,
   "metadata": {
    "ExecuteTime": {
     "end_time": "2018-12-04T07:00:22.571419Z",
     "start_time": "2018-12-04T07:00:22.553245Z"
    }
   },
   "outputs": [],
   "source": [
    "events = list(sorted((parse(s) for s in loglines)))"
   ]
  },
  {
   "cell_type": "code",
   "execution_count": 29,
   "metadata": {
    "ExecuteTime": {
     "end_time": "2018-12-04T07:00:22.989927Z",
     "start_time": "2018-12-04T07:00:22.985304Z"
    }
   },
   "outputs": [
    {
     "data": {
      "text/plain": [
       "[Event(time=datetime.datetime(1518, 3, 19, 0, 2), event='Guard #2953 begins shift'),\n",
       " Event(time=datetime.datetime(1518, 3, 19, 0, 37), event='falls asleep'),\n",
       " Event(time=datetime.datetime(1518, 3, 19, 0, 41), event='wakes up'),\n",
       " Event(time=datetime.datetime(1518, 3, 20, 0, 0), event='Guard #457 begins shift'),\n",
       " Event(time=datetime.datetime(1518, 3, 20, 0, 14), event='falls asleep'),\n",
       " Event(time=datetime.datetime(1518, 3, 20, 0, 26), event='wakes up'),\n",
       " Event(time=datetime.datetime(1518, 3, 21, 0, 3), event='Guard #691 begins shift'),\n",
       " Event(time=datetime.datetime(1518, 3, 21, 0, 31), event='falls asleep'),\n",
       " Event(time=datetime.datetime(1518, 3, 21, 0, 59), event='wakes up'),\n",
       " Event(time=datetime.datetime(1518, 3, 22, 0, 0), event='Guard #503 begins shift'),\n",
       " Event(time=datetime.datetime(1518, 3, 22, 0, 17), event='falls asleep'),\n",
       " Event(time=datetime.datetime(1518, 3, 22, 0, 36), event='wakes up'),\n",
       " Event(time=datetime.datetime(1518, 3, 23, 0, 2), event='Guard #223 begins shift'),\n",
       " Event(time=datetime.datetime(1518, 3, 23, 0, 23), event='falls asleep'),\n",
       " Event(time=datetime.datetime(1518, 3, 23, 0, 55), event='wakes up')]"
      ]
     },
     "execution_count": 29,
     "metadata": {},
     "output_type": "execute_result"
    }
   ],
   "source": [
    "events[:15]"
   ]
  },
  {
   "cell_type": "code",
   "execution_count": 30,
   "metadata": {
    "ExecuteTime": {
     "end_time": "2018-12-04T07:00:27.934941Z",
     "start_time": "2018-12-04T07:00:27.932132Z"
    }
   },
   "outputs": [],
   "source": [
    "guard_events = defaultdict(list)"
   ]
  },
  {
   "cell_type": "code",
   "execution_count": 32,
   "metadata": {
    "ExecuteTime": {
     "end_time": "2018-12-04T07:00:46.977597Z",
     "start_time": "2018-12-04T07:00:46.957539Z"
    }
   },
   "outputs": [],
   "source": [
    "current_guard = None\n",
    "sleep_start = 0\n",
    "prev_time = 0\n",
    "\n",
    "for time, event in events:\n",
    "    if event == ASLEEP:\n",
    "        # Assuming guard doesn't sleep twice without waking, i.e. valid events\n",
    "        interval = Interval(prev_time, time, \"awake\")\n",
    "        guard_events[current_guard].append(interval)\n",
    "    elif event == WAKE_UP:\n",
    "        # Record current guard as asleep from last time until now\n",
    "        interval = Interval(prev_time, time, \"asleep\")\n",
    "        guard_events[current_guard].append(interval)\n",
    "    else:\n",
    "        # Record current guard as awake from last known time till now\n",
    "        interval = Interval(prev_time, time, \"awake\")\n",
    "        guard_events[current_guard].append(interval)\n",
    "        \n",
    "        # Change of guard\n",
    "        current_guard = get_guard_id(event)\n",
    "        \n",
    "    prev_time = time"
   ]
  },
  {
   "cell_type": "code",
   "execution_count": 34,
   "metadata": {
    "ExecuteTime": {
     "end_time": "2018-12-04T07:01:00.615438Z",
     "start_time": "2018-12-04T07:01:00.607342Z"
    }
   },
   "outputs": [],
   "source": [
    "del guard_events[None]"
   ]
  },
  {
   "cell_type": "code",
   "execution_count": 36,
   "metadata": {
    "ExecuteTime": {
     "end_time": "2018-12-04T07:02:54.144912Z",
     "start_time": "2018-12-04T07:02:54.140803Z"
    }
   },
   "outputs": [],
   "source": [
    "def get_total_sleep_time(intervals):\n",
    "    sleep_intervals = [i for i in intervals if i.activity == \"asleep\"]\n",
    "    times = [(i.end - i.start).total_seconds() for i in sleep_intervals]\n",
    "    return sum(times)"
   ]
  },
  {
   "cell_type": "code",
   "execution_count": 37,
   "metadata": {
    "ExecuteTime": {
     "end_time": "2018-12-04T07:04:26.661513Z",
     "start_time": "2018-12-04T07:04:26.655678Z"
    }
   },
   "outputs": [],
   "source": [
    "guard_total_sleep_times = {}\n",
    "max_sleep = 0\n",
    "max_sleep_guard = None\n",
    "for guard, intervals in guard_events.items():\n",
    "    this_guard_slept_for = get_total_sleep_time(intervals)\n",
    "    if this_guard_slept_for > max_sleep:\n",
    "        max_sleep = this_guard_slept_for\n",
    "        max_sleep_guard = guard"
   ]
  },
  {
   "cell_type": "code",
   "execution_count": 40,
   "metadata": {
    "ExecuteTime": {
     "end_time": "2018-12-04T07:04:38.583118Z",
     "start_time": "2018-12-04T07:04:38.578834Z"
    }
   },
   "outputs": [
    {
     "data": {
      "text/plain": [
       "('#2953', 27900.0)"
      ]
     },
     "execution_count": 40,
     "metadata": {},
     "output_type": "execute_result"
    }
   ],
   "source": [
    "max_sleep_guard, max_sleep"
   ]
  },
  {
   "cell_type": "code",
   "execution_count": 41,
   "metadata": {
    "ExecuteTime": {
     "end_time": "2018-12-04T07:05:29.204142Z",
     "start_time": "2018-12-04T07:05:29.200512Z"
    }
   },
   "outputs": [],
   "source": [
    "asleep_intervals_for_guard_2953 = [i for i in guard_events[\"#2953\"] if i.activity == \"asleep\"]"
   ]
  },
  {
   "cell_type": "code",
   "execution_count": 45,
   "metadata": {
    "ExecuteTime": {
     "end_time": "2018-12-04T07:06:49.990123Z",
     "start_time": "2018-12-04T07:06:49.987479Z"
    }
   },
   "outputs": [],
   "source": [
    "sleep_times = [0]*60"
   ]
  },
  {
   "cell_type": "code",
   "execution_count": 46,
   "metadata": {
    "ExecuteTime": {
     "end_time": "2018-12-04T07:06:50.281540Z",
     "start_time": "2018-12-04T07:06:50.278073Z"
    }
   },
   "outputs": [],
   "source": [
    "for i in asleep_intervals_for_guard_2953:\n",
    "    for j in range(i.start.minute, i.end.minute):\n",
    "        sleep_times[j] += 1"
   ]
  },
  {
   "cell_type": "code",
   "execution_count": 54,
   "metadata": {
    "ExecuteTime": {
     "end_time": "2018-12-04T07:08:18.462211Z",
     "start_time": "2018-12-04T07:08:18.458015Z"
    }
   },
   "outputs": [
    {
     "data": {
      "text/plain": [
       "(39, 16)"
      ]
     },
     "execution_count": 54,
     "metadata": {},
     "output_type": "execute_result"
    }
   ],
   "source": [
    "max(enumerate(sleep_times), key=lambda k: k[1])"
   ]
  },
  {
   "cell_type": "code",
   "execution_count": 55,
   "metadata": {
    "ExecuteTime": {
     "end_time": "2018-12-04T07:08:35.531097Z",
     "start_time": "2018-12-04T07:08:35.526894Z"
    }
   },
   "outputs": [
    {
     "data": {
      "text/plain": [
       "115167"
      ]
     },
     "execution_count": 55,
     "metadata": {},
     "output_type": "execute_result"
    }
   ],
   "source": [
    "39*2953"
   ]
  },
  {
   "cell_type": "markdown",
   "metadata": {},
   "source": [
    "# Part 2"
   ]
  },
  {
   "cell_type": "code",
   "execution_count": 56,
   "metadata": {
    "ExecuteTime": {
     "end_time": "2018-12-04T07:40:38.278977Z",
     "start_time": "2018-12-04T07:40:38.275465Z"
    }
   },
   "outputs": [
    {
     "data": {
      "text/plain": [
       "23"
      ]
     },
     "execution_count": 56,
     "metadata": {},
     "output_type": "execute_result"
    }
   ],
   "source": [
    "len(guard_events.keys())"
   ]
  },
  {
   "cell_type": "code",
   "execution_count": 57,
   "metadata": {
    "ExecuteTime": {
     "end_time": "2018-12-04T07:43:24.267969Z",
     "start_time": "2018-12-04T07:43:24.265637Z"
    }
   },
   "outputs": [],
   "source": [
    "guard_sleeps = defaultdict(lambda: defaultdict(int))"
   ]
  },
  {
   "cell_type": "code",
   "execution_count": 58,
   "metadata": {
    "ExecuteTime": {
     "end_time": "2018-12-04T07:45:09.506644Z",
     "start_time": "2018-12-04T07:45:09.500451Z"
    }
   },
   "outputs": [],
   "source": [
    "for guard, intervals in guard_events.items():\n",
    "    sleeps = [i for i in intervals if i.activity == \"asleep\"]\n",
    "    for start, end, _ in sleeps:\n",
    "        for k in range(start.minute, end.minute):\n",
    "            guard_sleeps[guard][k] += 1"
   ]
  },
  {
   "cell_type": "code",
   "execution_count": 63,
   "metadata": {
    "ExecuteTime": {
     "end_time": "2018-12-04T07:48:45.138108Z",
     "start_time": "2018-12-04T07:48:45.132313Z"
    }
   },
   "outputs": [],
   "source": [
    "max_sleep_minute = -1\n",
    "max_sleep_freq = 0\n",
    "max_guard = None\n",
    "for guard, sleep_mins in guard_sleeps.items():\n",
    "    max_sleep_minute_guard, max_sleep_freq_guard = max(sleep_mins.items(), key=lambda p: p[1])\n",
    "    if max_sleep_freq_guard > max_sleep_freq:\n",
    "        max_sleep_freq = max_sleep_freq_guard\n",
    "        max_sleep_minute = max_sleep_minute_guard\n",
    "        max_guard = guard"
   ]
  },
  {
   "cell_type": "code",
   "execution_count": 66,
   "metadata": {
    "ExecuteTime": {
     "end_time": "2018-12-04T07:49:25.849397Z",
     "start_time": "2018-12-04T07:49:25.845639Z"
    }
   },
   "outputs": [
    {
     "data": {
      "text/plain": [
       "('#1069', 30)"
      ]
     },
     "execution_count": 66,
     "metadata": {},
     "output_type": "execute_result"
    }
   ],
   "source": [
    "max_guard, max_sleep_minute"
   ]
  },
  {
   "cell_type": "code",
   "execution_count": 67,
   "metadata": {
    "ExecuteTime": {
     "end_time": "2018-12-04T07:49:26.408203Z",
     "start_time": "2018-12-04T07:49:26.403982Z"
    }
   },
   "outputs": [
    {
     "data": {
      "text/plain": [
       "32070"
      ]
     },
     "execution_count": 67,
     "metadata": {},
     "output_type": "execute_result"
    }
   ],
   "source": [
    "1069*30"
   ]
  }
 ],
 "metadata": {
  "kernelspec": {
   "display_name": "Python 3",
   "language": "python",
   "name": "python3"
  },
  "language_info": {
   "codemirror_mode": {
    "name": "ipython",
    "version": 3
   },
   "file_extension": ".py",
   "mimetype": "text/x-python",
   "name": "python",
   "nbconvert_exporter": "python",
   "pygments_lexer": "ipython3",
   "version": "3.6.4"
  }
 },
 "nbformat": 4,
 "nbformat_minor": 2
}
