{
 "cells": [
  {
   "cell_type": "markdown",
   "metadata": {},
   "source": [
    "# Part 1"
   ]
  },
  {
   "cell_type": "code",
   "execution_count": 1,
   "metadata": {
    "ExecuteTime": {
     "end_time": "2018-12-02T01:50:23.722058Z",
     "start_time": "2018-12-02T01:50:23.715371Z"
    }
   },
   "outputs": [],
   "source": [
    "def read_input():\n",
    "    with open(\"day1-01-input.txt\") as f:\n",
    "        return [int(s.strip()) for s in f.readlines()]"
   ]
  },
  {
   "cell_type": "code",
   "execution_count": 2,
   "metadata": {
    "ExecuteTime": {
     "end_time": "2018-12-02T01:50:23.728384Z",
     "start_time": "2018-12-02T01:50:23.724227Z"
    }
   },
   "outputs": [],
   "source": [
    "nums = read_input()"
   ]
  },
  {
   "cell_type": "code",
   "execution_count": 3,
   "metadata": {
    "ExecuteTime": {
     "end_time": "2018-12-02T01:50:23.745901Z",
     "start_time": "2018-12-02T01:50:23.730556Z"
    }
   },
   "outputs": [
    {
     "data": {
      "text/plain": [
       "553"
      ]
     },
     "execution_count": 3,
     "metadata": {},
     "output_type": "execute_result"
    }
   ],
   "source": [
    "sum(nums)"
   ]
  },
  {
   "cell_type": "markdown",
   "metadata": {},
   "source": [
    "# Part 2"
   ]
  },
  {
   "cell_type": "code",
   "execution_count": 4,
   "metadata": {
    "ExecuteTime": {
     "end_time": "2018-12-02T01:50:23.753168Z",
     "start_time": "2018-12-02T01:50:23.749046Z"
    }
   },
   "outputs": [],
   "source": [
    "from itertools import cycle"
   ]
  },
  {
   "cell_type": "code",
   "execution_count": 5,
   "metadata": {
    "ExecuteTime": {
     "end_time": "2018-12-02T01:50:23.764130Z",
     "start_time": "2018-12-02T01:50:23.756149Z"
    }
   },
   "outputs": [],
   "source": [
    "def first_to_be_seen_twice(nums):\n",
    "    running_sum = 0\n",
    "    seen = set()\n",
    "    for s in cycle(nums):\n",
    "        if running_sum in seen:\n",
    "            return running_sum\n",
    "        seen.add(running_sum)\n",
    "        running_sum += s"
   ]
  },
  {
   "cell_type": "code",
   "execution_count": 6,
   "metadata": {
    "ExecuteTime": {
     "end_time": "2018-12-02T01:50:23.775822Z",
     "start_time": "2018-12-02T01:50:23.768314Z"
    }
   },
   "outputs": [
    {
     "data": {
      "text/plain": [
       "0"
      ]
     },
     "execution_count": 6,
     "metadata": {},
     "output_type": "execute_result"
    }
   ],
   "source": [
    "first_to_be_seen_twice([-1, 1])"
   ]
  },
  {
   "cell_type": "code",
   "execution_count": 7,
   "metadata": {
    "ExecuteTime": {
     "end_time": "2018-12-02T01:50:23.783928Z",
     "start_time": "2018-12-02T01:50:23.778374Z"
    }
   },
   "outputs": [
    {
     "data": {
      "text/plain": [
       "10"
      ]
     },
     "execution_count": 7,
     "metadata": {},
     "output_type": "execute_result"
    }
   ],
   "source": [
    "first_to_be_seen_twice([+3, +3, +4, -2, -4])"
   ]
  },
  {
   "cell_type": "code",
   "execution_count": 8,
   "metadata": {
    "ExecuteTime": {
     "end_time": "2018-12-02T01:50:23.843164Z",
     "start_time": "2018-12-02T01:50:23.789691Z"
    }
   },
   "outputs": [
    {
     "data": {
      "text/plain": [
       "78724"
      ]
     },
     "execution_count": 8,
     "metadata": {},
     "output_type": "execute_result"
    }
   ],
   "source": [
    "first_to_be_seen_twice(nums)"
   ]
  }
 ],
 "metadata": {
  "kernelspec": {
   "display_name": "Python 3",
   "language": "python",
   "name": "python3"
  },
  "language_info": {
   "codemirror_mode": {
    "name": "ipython",
    "version": 3
   },
   "file_extension": ".py",
   "mimetype": "text/x-python",
   "name": "python",
   "nbconvert_exporter": "python",
   "pygments_lexer": "ipython3",
   "version": "3.6.4"
  }
 },
 "nbformat": 4,
 "nbformat_minor": 2
}
