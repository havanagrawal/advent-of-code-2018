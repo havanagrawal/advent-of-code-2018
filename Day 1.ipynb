{
 "cells": [
  {
   "cell_type": "markdown",
   "metadata": {},
   "source": [
    "# Part 1"
   ]
  },
  {
   "cell_type": "code",
   "execution_count": 1,
   "metadata": {
    "ExecuteTime": {
     "end_time": "2018-12-04T08:07:28.886533Z",
     "start_time": "2018-12-04T08:07:28.877631Z"
    }
   },
   "outputs": [],
   "source": [
    "INPUT_FILE = \"day1.txt\""
   ]
  },
  {
   "cell_type": "code",
   "execution_count": 2,
   "metadata": {
    "ExecuteTime": {
     "end_time": "2018-12-04T08:07:28.897713Z",
     "start_time": "2018-12-04T08:07:28.891295Z"
    }
   },
   "outputs": [],
   "source": [
    "def read_input():\n",
    "    with open(INPUT_FILE) as f:\n",
    "        return [int(s.strip()) for s in f.readlines()]"
   ]
  },
  {
   "cell_type": "code",
   "execution_count": 3,
   "metadata": {
    "ExecuteTime": {
     "end_time": "2018-12-04T08:07:28.905151Z",
     "start_time": "2018-12-04T08:07:28.901267Z"
    }
   },
   "outputs": [],
   "source": [
    "nums = read_input()"
   ]
  },
  {
   "cell_type": "code",
   "execution_count": 4,
   "metadata": {
    "ExecuteTime": {
     "end_time": "2018-12-04T08:07:28.917692Z",
     "start_time": "2018-12-04T08:07:28.907717Z"
    }
   },
   "outputs": [
    {
     "data": {
      "text/plain": [
       "553"
      ]
     },
     "execution_count": 4,
     "metadata": {},
     "output_type": "execute_result"
    }
   ],
   "source": [
    "sum(nums)"
   ]
  },
  {
   "cell_type": "markdown",
   "metadata": {},
   "source": [
    "# Part 2"
   ]
  },
  {
   "cell_type": "code",
   "execution_count": 5,
   "metadata": {
    "ExecuteTime": {
     "end_time": "2018-12-04T08:07:28.923615Z",
     "start_time": "2018-12-04T08:07:28.919808Z"
    }
   },
   "outputs": [],
   "source": [
    "from itertools import cycle"
   ]
  },
  {
   "cell_type": "code",
   "execution_count": 6,
   "metadata": {
    "ExecuteTime": {
     "end_time": "2018-12-04T08:07:28.936821Z",
     "start_time": "2018-12-04T08:07:28.930314Z"
    }
   },
   "outputs": [],
   "source": [
    "def first_to_be_seen_twice(nums):\n",
    "    running_sum = 0\n",
    "    seen = set()\n",
    "    for s in cycle(nums):\n",
    "        if running_sum in seen:\n",
    "            return running_sum\n",
    "        seen.add(running_sum)\n",
    "        running_sum += s"
   ]
  },
  {
   "cell_type": "code",
   "execution_count": 7,
   "metadata": {
    "ExecuteTime": {
     "end_time": "2018-12-04T08:07:28.943717Z",
     "start_time": "2018-12-04T08:07:28.939088Z"
    }
   },
   "outputs": [
    {
     "data": {
      "text/plain": [
       "0"
      ]
     },
     "execution_count": 7,
     "metadata": {},
     "output_type": "execute_result"
    }
   ],
   "source": [
    "first_to_be_seen_twice([-1, 1])"
   ]
  },
  {
   "cell_type": "code",
   "execution_count": 8,
   "metadata": {
    "ExecuteTime": {
     "end_time": "2018-12-04T08:07:28.958721Z",
     "start_time": "2018-12-04T08:07:28.946115Z"
    }
   },
   "outputs": [
    {
     "data": {
      "text/plain": [
       "10"
      ]
     },
     "execution_count": 8,
     "metadata": {},
     "output_type": "execute_result"
    }
   ],
   "source": [
    "first_to_be_seen_twice([+3, +3, +4, -2, -4])"
   ]
  },
  {
   "cell_type": "code",
   "execution_count": 9,
   "metadata": {
    "ExecuteTime": {
     "end_time": "2018-12-04T08:07:29.006697Z",
     "start_time": "2018-12-04T08:07:28.961346Z"
    }
   },
   "outputs": [
    {
     "data": {
      "text/plain": [
       "78724"
      ]
     },
     "execution_count": 9,
     "metadata": {},
     "output_type": "execute_result"
    }
   ],
   "source": [
    "first_to_be_seen_twice(nums)"
   ]
  }
 ],
 "metadata": {
  "kernelspec": {
   "display_name": "Python 3",
   "language": "python",
   "name": "python3"
  },
  "language_info": {
   "codemirror_mode": {
    "name": "ipython",
    "version": 3
   },
   "file_extension": ".py",
   "mimetype": "text/x-python",
   "name": "python",
   "nbconvert_exporter": "python",
   "pygments_lexer": "ipython3",
   "version": "3.6.4"
  }
 },
 "nbformat": 4,
 "nbformat_minor": 2
}
