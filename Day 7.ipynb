{
 "cells": [
  {
   "cell_type": "code",
   "execution_count": 1,
   "metadata": {
    "ExecuteTime": {
     "end_time": "2018-12-07T12:09:20.939799Z",
     "start_time": "2018-12-07T12:09:20.933347Z"
    }
   },
   "outputs": [],
   "source": [
    "INPUT_FILE = \"day7.txt\""
   ]
  },
  {
   "cell_type": "code",
   "execution_count": 2,
   "metadata": {
    "ExecuteTime": {
     "end_time": "2018-12-07T12:09:20.947295Z",
     "start_time": "2018-12-07T12:09:20.942426Z"
    }
   },
   "outputs": [],
   "source": [
    "with open(INPUT_FILE) as f:\n",
    "    lines = [s.strip() for s in f.readlines()]"
   ]
  },
  {
   "cell_type": "markdown",
   "metadata": {},
   "source": [
    "# Part 1"
   ]
  },
  {
   "cell_type": "code",
   "execution_count": 3,
   "metadata": {
    "ExecuteTime": {
     "end_time": "2018-12-07T12:09:20.962816Z",
     "start_time": "2018-12-07T12:09:20.949932Z"
    }
   },
   "outputs": [
    {
     "data": {
      "text/plain": [
       "101"
      ]
     },
     "execution_count": 3,
     "metadata": {},
     "output_type": "execute_result"
    }
   ],
   "source": [
    "len(lines)"
   ]
  },
  {
   "cell_type": "code",
   "execution_count": 4,
   "metadata": {
    "ExecuteTime": {
     "end_time": "2018-12-07T12:09:20.970448Z",
     "start_time": "2018-12-07T12:09:20.965362Z"
    }
   },
   "outputs": [
    {
     "data": {
      "text/plain": [
       "['Step Z must be finished before step B can begin.',\n",
       " 'Step X must be finished before step D can begin.',\n",
       " 'Step D must be finished before step P can begin.',\n",
       " 'Step O must be finished before step C can begin.',\n",
       " 'Step C must be finished before step Y can begin.']"
      ]
     },
     "execution_count": 4,
     "metadata": {},
     "output_type": "execute_result"
    }
   ],
   "source": [
    "lines[:5]"
   ]
  },
  {
   "cell_type": "code",
   "execution_count": 5,
   "metadata": {
    "ExecuteTime": {
     "end_time": "2018-12-07T12:09:20.976610Z",
     "start_time": "2018-12-07T12:09:20.972924Z"
    }
   },
   "outputs": [],
   "source": [
    "def parse(s):\n",
    "    spl = s.split()\n",
    "    dest, src = spl[1], spl[7]\n",
    "    return src, dest"
   ]
  },
  {
   "cell_type": "code",
   "execution_count": 6,
   "metadata": {
    "ExecuteTime": {
     "end_time": "2018-12-07T12:09:20.981946Z",
     "start_time": "2018-12-07T12:09:20.978874Z"
    }
   },
   "outputs": [],
   "source": [
    "dependencies = list(map(parse, lines))"
   ]
  },
  {
   "cell_type": "code",
   "execution_count": 7,
   "metadata": {
    "ExecuteTime": {
     "end_time": "2018-12-07T12:09:20.988344Z",
     "start_time": "2018-12-07T12:09:20.983996Z"
    }
   },
   "outputs": [],
   "source": [
    "all_nodes = {x for x, _ in dependencies}\n",
    "all_nodes = all_nodes | {x for _, x in dependencies}"
   ]
  },
  {
   "cell_type": "code",
   "execution_count": 8,
   "metadata": {
    "ExecuteTime": {
     "end_time": "2018-12-07T12:09:20.995409Z",
     "start_time": "2018-12-07T12:09:20.990630Z"
    }
   },
   "outputs": [
    {
     "data": {
      "text/plain": [
       "26"
      ]
     },
     "execution_count": 8,
     "metadata": {},
     "output_type": "execute_result"
    }
   ],
   "source": [
    "len(all_nodes)"
   ]
  },
  {
   "cell_type": "code",
   "execution_count": 9,
   "metadata": {
    "ExecuteTime": {
     "end_time": "2018-12-07T12:09:21.000950Z",
     "start_time": "2018-12-07T12:09:20.997420Z"
    }
   },
   "outputs": [],
   "source": [
    "from collections import defaultdict, deque"
   ]
  },
  {
   "cell_type": "code",
   "execution_count": 10,
   "metadata": {
    "ExecuteTime": {
     "end_time": "2018-12-07T12:09:21.010533Z",
     "start_time": "2018-12-07T12:09:21.003107Z"
    }
   },
   "outputs": [],
   "source": [
    "def create_graph():\n",
    "    dep_graph = defaultdict(set)\n",
    "\n",
    "    for src, dest in dependencies:\n",
    "        dep_graph[src].add(dest)\n",
    "        \n",
    "    for k in all_nodes - set(dep_graph.keys()):\n",
    "        dep_graph[k] = set()\n",
    "        \n",
    "    return dep_graph"
   ]
  },
  {
   "cell_type": "code",
   "execution_count": 11,
   "metadata": {
    "ExecuteTime": {
     "end_time": "2018-12-07T12:09:21.019372Z",
     "start_time": "2018-12-07T12:09:21.012972Z"
    }
   },
   "outputs": [],
   "source": [
    "def which_are_free(graph):\n",
    "    next_free = []\n",
    "    for src, adj in sorted(graph.items()):\n",
    "        if len(adj) == 0:\n",
    "            next_free.append(src)\n",
    "    return next_free"
   ]
  },
  {
   "cell_type": "code",
   "execution_count": 12,
   "metadata": {
    "ExecuteTime": {
     "end_time": "2018-12-07T12:09:21.029286Z",
     "start_time": "2018-12-07T12:09:21.022125Z"
    }
   },
   "outputs": [],
   "source": [
    "def complete_task(k, graph):\n",
    "    print(k, end='')\n",
    "    for src, adj in graph.items():\n",
    "        if k in adj:\n",
    "            adj.remove(k)\n",
    "    if k in graph:\n",
    "        del graph[k]"
   ]
  },
  {
   "cell_type": "code",
   "execution_count": 13,
   "metadata": {
    "ExecuteTime": {
     "end_time": "2018-12-07T12:09:21.034956Z",
     "start_time": "2018-12-07T12:09:21.031290Z"
    }
   },
   "outputs": [],
   "source": [
    "def is_empty(graph):\n",
    "    return len(graph) == 0"
   ]
  },
  {
   "cell_type": "code",
   "execution_count": 14,
   "metadata": {
    "ExecuteTime": {
     "end_time": "2018-12-07T12:09:21.043456Z",
     "start_time": "2018-12-07T12:09:21.037096Z"
    }
   },
   "outputs": [
    {
     "name": "stdout",
     "output_type": "stream",
     "text": [
      "OVXCKZBDEHINPFSTJLUYRWGAMQ"
     ]
    }
   ],
   "source": [
    "dep_graph = create_graph()\n",
    "next_free = which_are_free(dep_graph)\n",
    "while not is_empty(dep_graph):\n",
    "    complete_task(next_free[0], dep_graph)\n",
    "    next_free = which_are_free(dep_graph)"
   ]
  },
  {
   "cell_type": "markdown",
   "metadata": {},
   "source": [
    "# Part 2"
   ]
  },
  {
   "cell_type": "code",
   "execution_count": 15,
   "metadata": {
    "ExecuteTime": {
     "end_time": "2018-12-07T12:09:21.048934Z",
     "start_time": "2018-12-07T12:09:21.045813Z"
    }
   },
   "outputs": [],
   "source": [
    "import string"
   ]
  },
  {
   "cell_type": "code",
   "execution_count": 16,
   "metadata": {
    "ExecuteTime": {
     "end_time": "2018-12-07T12:09:21.054451Z",
     "start_time": "2018-12-07T12:09:21.050999Z"
    }
   },
   "outputs": [],
   "source": [
    "def time_for_task(s):\n",
    "    return string.ascii_uppercase.index(s) + 60 + 1"
   ]
  },
  {
   "cell_type": "code",
   "execution_count": 17,
   "metadata": {
    "ExecuteTime": {
     "end_time": "2018-12-07T12:09:21.062405Z",
     "start_time": "2018-12-07T12:09:21.056733Z"
    }
   },
   "outputs": [
    {
     "data": {
      "text/plain": [
       "61"
      ]
     },
     "execution_count": 17,
     "metadata": {},
     "output_type": "execute_result"
    }
   ],
   "source": [
    "time_for_task('A')"
   ]
  },
  {
   "cell_type": "code",
   "execution_count": 18,
   "metadata": {
    "ExecuteTime": {
     "end_time": "2018-12-07T12:09:21.096540Z",
     "start_time": "2018-12-07T12:09:21.064372Z"
    }
   },
   "outputs": [
    {
     "name": "stdout",
     "output_type": "stream",
     "text": [
      "OVXZCBDEKHPSINTFJLUYRWGAMQ"
     ]
    }
   ],
   "source": [
    "will_get_completed = []\n",
    "workers = 5\n",
    "t = 0\n",
    "\n",
    "dep_graph = create_graph()\n",
    "\n",
    "queued = set()\n",
    "\n",
    "while not is_empty(dep_graph):\n",
    "    while len(will_get_completed) > 0 and will_get_completed[0][0] <= t:\n",
    "        task = will_get_completed[0][1]\n",
    "        complete_task(task, dep_graph)\n",
    "        workers = min(5, workers + 1)\n",
    "        will_get_completed = will_get_completed[1:]\n",
    "\n",
    "    next_free = which_are_free(dep_graph)\n",
    "    for potential_tasks in next_free:\n",
    "        if workers > 0 and potential_tasks not in queued:\n",
    "            will_get_completed.append((t + time_for_task(potential_tasks), potential_tasks))\n",
    "            will_get_completed = sorted(will_get_completed)\n",
    "            queued.add(potential_tasks)\n",
    "            workers -= 1\n",
    "\n",
    "    if will_get_completed:\n",
    "        t = will_get_completed[0][0]\n",
    "    else:\n",
    "        t = t + 1"
   ]
  },
  {
   "cell_type": "code",
   "execution_count": 19,
   "metadata": {
    "ExecuteTime": {
     "end_time": "2018-12-07T12:09:21.107756Z",
     "start_time": "2018-12-07T12:09:21.098633Z"
    }
   },
   "outputs": [
    {
     "data": {
      "text/plain": [
       "955"
      ]
     },
     "execution_count": 19,
     "metadata": {},
     "output_type": "execute_result"
    }
   ],
   "source": [
    "t - 1"
   ]
  }
 ],
 "metadata": {
  "kernelspec": {
   "display_name": "Python 3",
   "language": "python",
   "name": "python3"
  },
  "language_info": {
   "codemirror_mode": {
    "name": "ipython",
    "version": 3
   },
   "file_extension": ".py",
   "mimetype": "text/x-python",
   "name": "python",
   "nbconvert_exporter": "python",
   "pygments_lexer": "ipython3",
   "version": "3.6.4"
  }
 },
 "nbformat": 4,
 "nbformat_minor": 2
}
