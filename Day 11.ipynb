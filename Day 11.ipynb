{
 "cells": [
  {
   "cell_type": "markdown",
   "metadata": {},
   "source": [
    "# Part 1"
   ]
  },
  {
   "cell_type": "code",
   "execution_count": 1,
   "metadata": {
    "ExecuteTime": {
     "end_time": "2018-12-11T05:25:25.543462Z",
     "start_time": "2018-12-11T05:25:25.538495Z"
    }
   },
   "outputs": [],
   "source": [
    "fuel_cells = [[0]*301 for _ in range(301)]"
   ]
  },
  {
   "cell_type": "code",
   "execution_count": 2,
   "metadata": {
    "ExecuteTime": {
     "end_time": "2018-12-11T05:25:25.550887Z",
     "start_time": "2018-12-11T05:25:25.545328Z"
    }
   },
   "outputs": [],
   "source": [
    "serial_number = 7989"
   ]
  },
  {
   "cell_type": "code",
   "execution_count": 3,
   "metadata": {
    "ExecuteTime": {
     "end_time": "2018-12-11T05:25:25.590363Z",
     "start_time": "2018-12-11T05:25:25.553179Z"
    }
   },
   "outputs": [],
   "source": [
    "for i in range(1, 301):\n",
    "    for j in range(1, 301):\n",
    "        fuel_cells[i][j] = ((((i + 10)*j + serial_number)*(i + 10) // 100) % 10) - 5"
   ]
  },
  {
   "cell_type": "code",
   "execution_count": 4,
   "metadata": {
    "ExecuteTime": {
     "end_time": "2018-12-11T05:25:25.608532Z",
     "start_time": "2018-12-11T05:25:25.592832Z"
    }
   },
   "outputs": [
    {
     "data": {
      "text/plain": [
       "-5"
      ]
     },
     "execution_count": 4,
     "metadata": {},
     "output_type": "execute_result"
    }
   ],
   "source": [
    "fuel_cells[122][79]"
   ]
  },
  {
   "cell_type": "code",
   "execution_count": 5,
   "metadata": {
    "ExecuteTime": {
     "end_time": "2018-12-11T05:25:25.619888Z",
     "start_time": "2018-12-11T05:25:25.611325Z"
    }
   },
   "outputs": [],
   "source": [
    "def sum_of_square(fuel_cells, x, y, size=3):\n",
    "    ans = 0\n",
    "    for i in range(x, x + size):\n",
    "        for j in range(y, y + size):\n",
    "            ans += fuel_cells[i][j]\n",
    "    return ans"
   ]
  },
  {
   "cell_type": "code",
   "execution_count": 6,
   "metadata": {
    "ExecuteTime": {
     "end_time": "2018-12-11T05:25:25.812131Z",
     "start_time": "2018-12-11T05:25:25.625448Z"
    }
   },
   "outputs": [],
   "source": [
    "max_sum = 0\n",
    "ans = None\n",
    "for i in range(1, 298):\n",
    "    for j in range(1, 298):\n",
    "        k = sum_of_square(fuel_cells, i, j)\n",
    "        if k > max_sum:\n",
    "            max_sum = k\n",
    "            ans = \"{},{}\".format(i, j)"
   ]
  },
  {
   "cell_type": "code",
   "execution_count": 7,
   "metadata": {
    "ExecuteTime": {
     "end_time": "2018-12-11T05:25:25.818543Z",
     "start_time": "2018-12-11T05:25:25.814481Z"
    }
   },
   "outputs": [
    {
     "data": {
      "text/plain": [
       "'19,17'"
      ]
     },
     "execution_count": 7,
     "metadata": {},
     "output_type": "execute_result"
    }
   ],
   "source": [
    "ans"
   ]
  },
  {
   "cell_type": "markdown",
   "metadata": {},
   "source": [
    "# Part 2"
   ]
  },
  {
   "cell_type": "code",
   "execution_count": 8,
   "metadata": {
    "ExecuteTime": {
     "end_time": "2018-12-11T05:25:25.826127Z",
     "start_time": "2018-12-11T05:25:25.821000Z"
    }
   },
   "outputs": [],
   "source": [
    "dp = [[0]*301 for _ in range(301)]"
   ]
  },
  {
   "cell_type": "code",
   "execution_count": 9,
   "metadata": {
    "ExecuteTime": {
     "end_time": "2018-12-11T05:25:25.833529Z",
     "start_time": "2018-12-11T05:25:25.828214Z"
    }
   },
   "outputs": [],
   "source": [
    "for i in range(1, 301):\n",
    "    dp[i][1] = dp[i - 1][1] + fuel_cells[i][1]\n",
    "    \n",
    "for j in range(1, 301):\n",
    "    dp[1][j] = dp[1][j - 1] + fuel_cells[1][j]\n",
    "    \n",
    "for i in range(2, 301):\n",
    "    for j in range(2, 301):\n",
    "        dp[i][j] = dp[i - 1][j] + dp[i][j - 1] - dp[i - 1][j - 1] + fuel_cells[i][j]"
   ]
  },
  {
   "cell_type": "code",
   "execution_count": 12,
   "metadata": {
    "ExecuteTime": {
     "end_time": "2018-12-11T05:25:32.115941Z",
     "start_time": "2018-12-11T05:25:25.900632Z"
    }
   },
   "outputs": [],
   "source": [
    "max_sum = 0\n",
    "ans = None\n",
    "for s in range(1, 301):\n",
    "    for i in range(1, 301 - s + 1):\n",
    "        for j in range(1, 301 - s + 1):\n",
    "            k = dp[i + s - 1][j + s - 1] - dp[i - 1][j + s - 1] - dp[i + s - 1][j - 1] + dp[i - 1][j - 1]\n",
    "            if k > max_sum:\n",
    "                max_sum = k\n",
    "                ans = \"{},{},{}\".format(i, j, s)"
   ]
  },
  {
   "cell_type": "code",
   "execution_count": 13,
   "metadata": {
    "ExecuteTime": {
     "end_time": "2018-12-11T05:25:32.124655Z",
     "start_time": "2018-12-11T05:25:32.118230Z"
    }
   },
   "outputs": [
    {
     "data": {
      "text/plain": [
       "'233,288,12'"
      ]
     },
     "execution_count": 13,
     "metadata": {},
     "output_type": "execute_result"
    }
   ],
   "source": [
    "ans, max_sum"
   ]
  }
 ],
 "metadata": {
  "kernelspec": {
   "display_name": "Python 3",
   "language": "python",
   "name": "python3"
  },
  "language_info": {
   "codemirror_mode": {
    "name": "ipython",
    "version": 3
   },
   "file_extension": ".py",
   "mimetype": "text/x-python",
   "name": "python",
   "nbconvert_exporter": "python",
   "pygments_lexer": "ipython3",
   "version": "3.6.4"
  }
 },
 "nbformat": 4,
 "nbformat_minor": 2
}
