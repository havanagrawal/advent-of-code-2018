{
 "cells": [
  {
   "cell_type": "code",
   "execution_count": 1,
   "metadata": {
    "ExecuteTime": {
     "end_time": "2018-12-14T18:51:08.723809Z",
     "start_time": "2018-12-14T18:51:08.717396Z"
    }
   },
   "outputs": [],
   "source": [
    "N = 846021"
   ]
  },
  {
   "cell_type": "markdown",
   "metadata": {},
   "source": [
    "# Part 1"
   ]
  },
  {
   "cell_type": "code",
   "execution_count": 2,
   "metadata": {
    "ExecuteTime": {
     "end_time": "2018-12-14T18:51:08.740659Z",
     "start_time": "2018-12-14T18:51:08.725849Z"
    }
   },
   "outputs": [],
   "source": [
    "def make_next_recipe_scores(scores, c1, c2):\n",
    "    s = scores[c1] + scores[c2]\n",
    "    if s < 10:\n",
    "        return [s]\n",
    "    s = str(s)\n",
    "    return [int(s[0]), int(s[1])]"
   ]
  },
  {
   "cell_type": "code",
   "execution_count": 3,
   "metadata": {
    "ExecuteTime": {
     "end_time": "2018-12-14T18:51:08.753982Z",
     "start_time": "2018-12-14T18:51:08.745749Z"
    }
   },
   "outputs": [],
   "source": [
    "def pick_new_recipes(scores, c1, c2):\n",
    "    c1_new = (c1 + scores[c1] + 1) % len(scores)\n",
    "    c2_new = (c2 + scores[c2] + 1) % len(scores)\n",
    "    return c1_new, c2_new"
   ]
  },
  {
   "cell_type": "code",
   "execution_count": 4,
   "metadata": {
    "ExecuteTime": {
     "end_time": "2018-12-14T18:51:08.760581Z",
     "start_time": "2018-12-14T18:51:08.757240Z"
    }
   },
   "outputs": [],
   "source": [
    "scores = [3, 7]\n",
    "c1, c2 = 0, 1"
   ]
  },
  {
   "cell_type": "code",
   "execution_count": 5,
   "metadata": {
    "ExecuteTime": {
     "end_time": "2018-12-14T18:51:08.770550Z",
     "start_time": "2018-12-14T18:51:08.762973Z"
    }
   },
   "outputs": [],
   "source": [
    "def post_scores(scores, c1, c2, n):\n",
    "    scores = list(scores)\n",
    "    while len(scores) <= n + 10:\n",
    "        new_recipes = make_next_recipe_scores(scores, c1, c2)\n",
    "        scores.extend(new_recipes)\n",
    "        c1, c2 = pick_new_recipes(scores, c1, c2)\n",
    "    return \"\".join(map(str, scores[n:n + 10]))"
   ]
  },
  {
   "cell_type": "code",
   "execution_count": 6,
   "metadata": {
    "ExecuteTime": {
     "end_time": "2018-12-14T18:51:08.778669Z",
     "start_time": "2018-12-14T18:51:08.772862Z"
    }
   },
   "outputs": [],
   "source": [
    "assert post_scores(scores, c1, c2, 9) == '5158916779'\n",
    "assert post_scores(scores, c1, c2, 18) == '9251071085'\n",
    "assert post_scores(scores, c1, c2, 2018) == '5941429882'"
   ]
  },
  {
   "cell_type": "code",
   "execution_count": 7,
   "metadata": {
    "ExecuteTime": {
     "end_time": "2018-12-14T18:51:09.470644Z",
     "start_time": "2018-12-14T18:51:08.781101Z"
    }
   },
   "outputs": [
    {
     "data": {
      "text/plain": [
       "'5482326119'"
      ]
     },
     "execution_count": 7,
     "metadata": {},
     "output_type": "execute_result"
    }
   ],
   "source": [
    "post_scores(scores, c1, c2, N)"
   ]
  },
  {
   "cell_type": "markdown",
   "metadata": {},
   "source": [
    "# Part 2"
   ]
  },
  {
   "cell_type": "code",
   "execution_count": 8,
   "metadata": {
    "ExecuteTime": {
     "end_time": "2018-12-14T18:51:09.482358Z",
     "start_time": "2018-12-14T18:51:09.472890Z"
    }
   },
   "outputs": [],
   "source": [
    "def how_many_before(scores, c1, c2, seq, jump_size=100, verbose=True):\n",
    "    scores = list(scores)\n",
    "    i = 0\n",
    "    while True:\n",
    "        new_recipes = make_next_recipe_scores(scores, c1, c2)\n",
    "        scores.extend(new_recipes)\n",
    "        c1, c2 = pick_new_recipes(scores, c1, c2)\n",
    "        i += 1\n",
    "        if i % jump_size == 0: \n",
    "            if verbose: print(i)\n",
    "            if seq in \"\".join(map(str, scores)):\n",
    "                return \"\".join(map(str, scores)).index(seq)"
   ]
  },
  {
   "cell_type": "code",
   "execution_count": 9,
   "metadata": {
    "ExecuteTime": {
     "end_time": "2018-12-14T18:51:15.402075Z",
     "start_time": "2018-12-14T18:51:09.484868Z"
    }
   },
   "outputs": [
    {
     "data": {
      "text/plain": [
       "846021"
      ]
     },
     "execution_count": 9,
     "metadata": {},
     "output_type": "execute_result"
    }
   ],
   "source": [
    "how_many_before(scores, c1, c2, \"54823\", jump_size=10000, verbose=False)"
   ]
  },
  {
   "cell_type": "code",
   "execution_count": 10,
   "metadata": {
    "ExecuteTime": {
     "end_time": "2018-12-14T18:51:16.944196Z",
     "start_time": "2018-12-14T18:51:15.404124Z"
    }
   },
   "outputs": [
    {
     "data": {
      "text/plain": [
       "846021"
      ]
     },
     "execution_count": 10,
     "metadata": {},
     "output_type": "execute_result"
    }
   ],
   "source": [
    "how_many_before(scores, c1, c2, \"54823\", jump_size=100000, verbose=False)"
   ]
  },
  {
   "cell_type": "code",
   "execution_count": 11,
   "metadata": {
    "ExecuteTime": {
     "end_time": "2018-12-14T18:51:18.511646Z",
     "start_time": "2018-12-14T18:51:16.946389Z"
    }
   },
   "outputs": [
    {
     "data": {
      "text/plain": [
       "846021"
      ]
     },
     "execution_count": 11,
     "metadata": {},
     "output_type": "execute_result"
    }
   ],
   "source": [
    "how_many_before(scores, c1, c2, \"54823\", jump_size=500000, verbose=False)"
   ]
  },
  {
   "cell_type": "code",
   "execution_count": 12,
   "metadata": {
    "ExecuteTime": {
     "end_time": "2018-12-14T18:51:19.945499Z",
     "start_time": "2018-12-14T18:51:18.513993Z"
    }
   },
   "outputs": [
    {
     "data": {
      "text/plain": [
       "846021"
      ]
     },
     "execution_count": 12,
     "metadata": {},
     "output_type": "execute_result"
    }
   ],
   "source": [
    "how_many_before(scores, c1, c2, \"54823\", jump_size=1000000, verbose=False)"
   ]
  },
  {
   "cell_type": "code",
   "execution_count": 13,
   "metadata": {
    "ExecuteTime": {
     "end_time": "2018-12-14T18:51:19.963250Z",
     "start_time": "2018-12-14T18:51:19.947607Z"
    }
   },
   "outputs": [],
   "source": [
    "assert how_many_before(scores, c1, c2, \"51589\", verbose=False) == 9\n",
    "assert how_many_before(scores, c1, c2, \"01245\", verbose=False) == 5\n",
    "assert how_many_before(scores, c1, c2, \"92510\", verbose=False) == 18\n",
    "assert how_many_before(scores, c1, c2, \"59414\", verbose=False) == 2018"
   ]
  },
  {
   "cell_type": "code",
   "execution_count": 14,
   "metadata": {
    "ExecuteTime": {
     "end_time": "2018-12-14T18:51:59.362093Z",
     "start_time": "2018-12-14T18:51:19.966358Z"
    }
   },
   "outputs": [
    {
     "name": "stdout",
     "output_type": "stream",
     "text": [
      "7000000\n",
      "14000000\n",
      "21000000\n"
     ]
    },
    {
     "data": {
      "text/plain": [
       "20368140"
      ]
     },
     "execution_count": 14,
     "metadata": {},
     "output_type": "execute_result"
    }
   ],
   "source": [
    "how_many_before(scores, c1, c2, str(N), jump_size=7000000, verbose=True)"
   ]
  }
 ],
 "metadata": {
  "kernelspec": {
   "display_name": "Python 3",
   "language": "python",
   "name": "python3"
  },
  "language_info": {
   "codemirror_mode": {
    "name": "ipython",
    "version": 3
   },
   "file_extension": ".py",
   "mimetype": "text/x-python",
   "name": "python",
   "nbconvert_exporter": "python",
   "pygments_lexer": "ipython3",
   "version": "3.6.4"
  }
 },
 "nbformat": 4,
 "nbformat_minor": 2
}
